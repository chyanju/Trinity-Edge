{
 "cells": [
  {
   "cell_type": "markdown",
   "id": "8e9d1dfb-b0ae-42de-9a2f-fbd79b855ffb",
   "metadata": {},
   "source": [
    "# workflow: converting old Morpheus benchmark to ReMorpheus format"
   ]
  },
  {
   "cell_type": "markdown",
   "id": "0dc969cd-72f9-4fb0-b574-1993be3d7e2f",
   "metadata": {},
   "source": [
    "### step1: compose `example.json`\n",
    "- see an example in `benchmarks/morpheus/5/example.json`\n",
    "- working directory is `benchmarks/morpheus/`"
   ]
  },
  {
   "cell_type": "markdown",
   "id": "158e2df1-e77a-4ea9-87b2-1d0a01477699",
   "metadata": {},
   "source": [
    "### step2: compose solution program and test it out\n",
    "- see the original Morpheus logs (`tests/morpheus-logs.tar`) for reference solution (note that 1. the reference solution may not generate the same output in ReMorpheus system; 2. the new solution may even be of a different size then the old Morpheus one)\n",
    "- attach `tag={\"cpos\":0}` to trick the interpreter, since naturally generated program contains such information from the enumerator; but here we do not need it since that's for deduction purpose"
   ]
  },
  {
   "cell_type": "code",
   "execution_count": 1,
   "id": "c94a6c56-51d6-4226-9600-fc14a7e896da",
   "metadata": {},
   "outputs": [],
   "source": [
    "import pandas as pd\n",
    "import json\n",
    "\n",
    "import tyrell.spec as S\n",
    "import tyrell.dsl as D\n",
    "from tyrell.interpreter import MorpheusInterpreter\n",
    "from tyrell.dsl.node import AtomNode, ParamNode, ApplyNode, Mutable\n",
    "\n",
    "from test_morpheus_benchmark import load_example\n",
    "\n",
    "def tag_trick(arg_node, ind=Mutable(0)):\n",
    "    if isinstance(arg_node, AtomNode):\n",
    "        arg_node._tag = {\"cpos\":ind.v}\n",
    "        ind.v += 1\n",
    "    elif isinstance(arg_node, ParamNode):\n",
    "        pass\n",
    "    elif isinstance(arg_node, ApplyNode):\n",
    "        for p in arg_node.args:\n",
    "            tag_trick(p)"
   ]
  },
  {
   "cell_type": "code",
   "execution_count": 2,
   "id": "dcc851ce-edc0-4983-819e-7447b4e0805e",
   "metadata": {},
   "outputs": [],
   "source": [
    "spec = S.parse_file(\"./dsls/morpheus.tyrell\")\n",
    "builder = D.Builder(spec)\n",
    "interpreter = MorpheusInterpreter(spec=spec)"
   ]
  },
  {
   "cell_type": "code",
   "execution_count": 3,
   "id": "b1b31b69-2c13-4f2d-8f2f-2132f7360920",
   "metadata": {},
   "outputs": [],
   "source": [
    "# construct: gather(@param0, ['-99', '-1'])\n",
    "step0_func_prod = spec.get_function_production(\"gather\")\n",
    "step0_arg_nodes = [\n",
    "    builder.make_node( spec.get_param_production(0) ),\n",
    "    builder.make_node( spec.get_enum_production(spec.get_type(\"ColList\"),['-99', '-1']) )\n",
    "]\n",
    "step0_node = builder.make_node( step0_func_prod, step0_arg_nodes )"
   ]
  },
  {
   "cell_type": "code",
   "execution_count": 4,
   "id": "374f4736-098a-4d42-b229-cad8ce8a6f8d",
   "metadata": {},
   "outputs": [],
   "source": [
    "# construct: separate(gather(@param0, ['-99', '-1']), 2)\n",
    "step1_func_prod = spec.get_function_production(\"separate\")\n",
    "step1_arg_nodes = [\n",
    "    step0_node,\n",
    "    builder.make_node( spec.get_enum_production(spec.get_type(\"ColInt\"),\"2\") )\n",
    "]\n",
    "step1_node = builder.make_node( step1_func_prod, step1_arg_nodes )"
   ]
  },
  {
   "cell_type": "code",
   "execution_count": 5,
   "id": "b99e8fe6-9c51-4a81-b467-1a5309dd642b",
   "metadata": {},
   "outputs": [],
   "source": [
    "# construct: select(separate(gather(@param0, ['-99', '-1']), 2), ['-3'])\n",
    "step2_func_prod = spec.get_function_production(\"select\")\n",
    "step2_arg_nodes = [\n",
    "    step1_node,\n",
    "    builder.make_node( spec.get_enum_production(spec.get_type(\"ColList\"),['-3']) )\n",
    "]\n",
    "step2_node = builder.make_node( step2_func_prod, step2_arg_nodes )"
   ]
  },
  {
   "cell_type": "code",
   "execution_count": 7,
   "id": "40d17e42-ca64-4c9a-a8ce-3a9c6e2c1650",
   "metadata": {},
   "outputs": [
    {
     "name": "stdout",
     "output_type": "stream",
     "text": [
      "select(separate(gather(@param0, ['-99', '-1']), 2), ['-3'])\n"
     ]
    }
   ],
   "source": [
    "program = step2_node\n",
    "tag_trick(program)\n",
    "print(program)"
   ]
  },
  {
   "cell_type": "code",
   "execution_count": 8,
   "id": "098978e4-c0d3-47e9-bc34-ad13c5f44867",
   "metadata": {},
   "outputs": [],
   "source": [
    "# load example from benchmark 5\n",
    "example = load_example(5)"
   ]
  },
  {
   "cell_type": "code",
   "execution_count": 9,
   "id": "060e4e07-8c42-414d-959b-01be97640a5b",
   "metadata": {},
   "outputs": [
    {
     "data": {
      "text/html": [
       "<div>\n",
       "<style scoped>\n",
       "    .dataframe tbody tr th:only-of-type {\n",
       "        vertical-align: middle;\n",
       "    }\n",
       "\n",
       "    .dataframe tbody tr th {\n",
       "        vertical-align: top;\n",
       "    }\n",
       "\n",
       "    .dataframe thead th {\n",
       "        text-align: right;\n",
       "    }\n",
       "</style>\n",
       "<table border=\"1\" class=\"dataframe\">\n",
       "  <thead>\n",
       "    <tr style=\"text-align: right;\">\n",
       "      <th></th>\n",
       "      <th>ID</th>\n",
       "      <th>T</th>\n",
       "      <th>COL1</th>\n",
       "      <th>COL3</th>\n",
       "    </tr>\n",
       "  </thead>\n",
       "  <tbody>\n",
       "    <tr>\n",
       "      <th>0</th>\n",
       "      <td>1</td>\n",
       "      <td>24.3</td>\n",
       "      <td>10.2</td>\n",
       "      <td>1</td>\n",
       "    </tr>\n",
       "    <tr>\n",
       "      <th>1</th>\n",
       "      <td>2</td>\n",
       "      <td>23.4</td>\n",
       "      <td>10.4</td>\n",
       "      <td>1</td>\n",
       "    </tr>\n",
       "    <tr>\n",
       "      <th>2</th>\n",
       "      <td>1</td>\n",
       "      <td>24.3</td>\n",
       "      <td>5.5</td>\n",
       "      <td>2</td>\n",
       "    </tr>\n",
       "    <tr>\n",
       "      <th>3</th>\n",
       "      <td>2</td>\n",
       "      <td>23.4</td>\n",
       "      <td>5.7</td>\n",
       "      <td>2</td>\n",
       "    </tr>\n",
       "    <tr>\n",
       "      <th>4</th>\n",
       "      <td>1</td>\n",
       "      <td>24.3</td>\n",
       "      <td>4.5</td>\n",
       "      <td>1</td>\n",
       "    </tr>\n",
       "    <tr>\n",
       "      <th>5</th>\n",
       "      <td>2</td>\n",
       "      <td>23.4</td>\n",
       "      <td>3.2</td>\n",
       "      <td>1</td>\n",
       "    </tr>\n",
       "  </tbody>\n",
       "</table>\n",
       "</div>"
      ],
      "text/plain": [
       "   ID     T  COL1 COL3\n",
       "0   1  24.3  10.2    1\n",
       "1   2  23.4  10.4    1\n",
       "2   1  24.3   5.5    2\n",
       "3   2  23.4   5.7    2\n",
       "4   1  24.3   4.5    1\n",
       "5   2  23.4   3.2    1"
      ]
     },
     "execution_count": 9,
     "metadata": {},
     "output_type": "execute_result"
    }
   ],
   "source": [
    "# trick the interpreter, need to be resetted every time before you call `eval`\n",
    "interpreter._current_combination = tuple([None for _ in range(30)])\n",
    "actual_output = interpreter.eval( program, example.input )\n",
    "actual_output"
   ]
  },
  {
   "cell_type": "code",
   "execution_count": 10,
   "id": "46f83cb7-4c16-48ee-9a85-071193a42238",
   "metadata": {},
   "outputs": [
    {
     "name": "stdout",
     "output_type": "stream",
     "text": [
      "good to go\n"
     ]
    }
   ],
   "source": [
    "# compare and verify the correctness of the program\n",
    "if interpreter.equal_tb(actual_output, example.output) is None:\n",
    "    print(\"good to go\")\n",
    "else:\n",
    "    print(\"will throw some exception if not good\")"
   ]
  },
  {
   "cell_type": "code",
   "execution_count": 11,
   "id": "eb3d3a76-0ce6-4274-97ac-a2016cabccd3",
   "metadata": {},
   "outputs": [
    {
     "data": {
      "text/plain": [
       "[['function', 'select'],\n",
       " [['function', 'separate'],\n",
       "  [['function', 'gather'], ['param', 0], ['enum', 'ColList', ['-99', '-1']]],\n",
       "  ['enum', 'ColInt', '2']],\n",
       " ['enum', 'ColList', ['-3']]]"
      ]
     },
     "execution_count": 11,
     "metadata": {},
     "output_type": "execute_result"
    }
   ],
   "source": [
    "# then add this to the \"solution\" field of `example.json`\n",
    "program.to_jsonexp()"
   ]
  },
  {
   "cell_type": "markdown",
   "id": "deef02d7-ead2-4ca4-8e7a-6bd609734987",
   "metadata": {},
   "source": [
    "### step2 (alternative): compose solution program from json expression"
   ]
  },
  {
   "cell_type": "code",
   "execution_count": 12,
   "id": "dac691e2-bc0a-482c-8f96-db78d48ec3da",
   "metadata": {},
   "outputs": [],
   "source": [
    "jsonexp = [\n",
    "    [\"function\", \"select\"],\n",
    "    [\n",
    "        [\"function\", \"separate\"],\n",
    "        [\n",
    "            [\"function\", \"gather\"],\n",
    "            [\"param\", 0],\n",
    "            [\"enum\", \"ColList\", [\"-99\", \"-1\"]]\n",
    "        ],\n",
    "        [\"enum\", \"ColInt\", \"2\"]\n",
    "    ],\n",
    "    [\"enum\", \"ColList\", [\"-3\"]]\n",
    "]"
   ]
  },
  {
   "cell_type": "code",
   "execution_count": 15,
   "id": "8f342d4f-7634-438c-b4c9-fe34c167f1d8",
   "metadata": {},
   "outputs": [],
   "source": [
    "program = builder.from_jsonexp(jsonexp)\n",
    "tag_trick(program)"
   ]
  },
  {
   "cell_type": "code",
   "execution_count": 16,
   "id": "fa3e117b-ad3d-4b5a-9561-6c64547dab01",
   "metadata": {},
   "outputs": [
    {
     "data": {
      "text/html": [
       "<div>\n",
       "<style scoped>\n",
       "    .dataframe tbody tr th:only-of-type {\n",
       "        vertical-align: middle;\n",
       "    }\n",
       "\n",
       "    .dataframe tbody tr th {\n",
       "        vertical-align: top;\n",
       "    }\n",
       "\n",
       "    .dataframe thead th {\n",
       "        text-align: right;\n",
       "    }\n",
       "</style>\n",
       "<table border=\"1\" class=\"dataframe\">\n",
       "  <thead>\n",
       "    <tr style=\"text-align: right;\">\n",
       "      <th></th>\n",
       "      <th>ID</th>\n",
       "      <th>T</th>\n",
       "      <th>COL1</th>\n",
       "      <th>COL3</th>\n",
       "    </tr>\n",
       "  </thead>\n",
       "  <tbody>\n",
       "    <tr>\n",
       "      <th>0</th>\n",
       "      <td>1</td>\n",
       "      <td>24.3</td>\n",
       "      <td>10.2</td>\n",
       "      <td>1</td>\n",
       "    </tr>\n",
       "    <tr>\n",
       "      <th>1</th>\n",
       "      <td>2</td>\n",
       "      <td>23.4</td>\n",
       "      <td>10.4</td>\n",
       "      <td>1</td>\n",
       "    </tr>\n",
       "    <tr>\n",
       "      <th>2</th>\n",
       "      <td>1</td>\n",
       "      <td>24.3</td>\n",
       "      <td>5.5</td>\n",
       "      <td>2</td>\n",
       "    </tr>\n",
       "    <tr>\n",
       "      <th>3</th>\n",
       "      <td>2</td>\n",
       "      <td>23.4</td>\n",
       "      <td>5.7</td>\n",
       "      <td>2</td>\n",
       "    </tr>\n",
       "    <tr>\n",
       "      <th>4</th>\n",
       "      <td>1</td>\n",
       "      <td>24.3</td>\n",
       "      <td>4.5</td>\n",
       "      <td>1</td>\n",
       "    </tr>\n",
       "    <tr>\n",
       "      <th>5</th>\n",
       "      <td>2</td>\n",
       "      <td>23.4</td>\n",
       "      <td>3.2</td>\n",
       "      <td>1</td>\n",
       "    </tr>\n",
       "  </tbody>\n",
       "</table>\n",
       "</div>"
      ],
      "text/plain": [
       "   ID     T  COL1 COL3\n",
       "0   1  24.3  10.2    1\n",
       "1   2  23.4  10.4    1\n",
       "2   1  24.3   5.5    2\n",
       "3   2  23.4   5.7    2\n",
       "4   1  24.3   4.5    1\n",
       "5   2  23.4   3.2    1"
      ]
     },
     "execution_count": 16,
     "metadata": {},
     "output_type": "execute_result"
    }
   ],
   "source": [
    "# trick the interpreter, need to be resetted every time before you call `eval`\n",
    "interpreter._current_combination = tuple([None for _ in range(30)])\n",
    "actual_output = interpreter.eval( program, example.input )\n",
    "actual_output"
   ]
  },
  {
   "cell_type": "code",
   "execution_count": 17,
   "id": "161ec17f-6e17-416b-8cd0-e112a1101882",
   "metadata": {},
   "outputs": [
    {
     "name": "stdout",
     "output_type": "stream",
     "text": [
      "good to go\n"
     ]
    }
   ],
   "source": [
    "if interpreter.equal_tb(actual_output, example.output) is None:\n",
    "    print(\"good to go\")\n",
    "else:\n",
    "    print(\"will throw some exception if not good\")"
   ]
  },
  {
   "cell_type": "markdown",
   "id": "c2678d9b-fd02-44eb-a4b5-0977931f64b8",
   "metadata": {},
   "source": [
    "### step3: sort out folder and add records\n",
    "- when the previous steps are done, sort out the folder by only keeping the `example.json` (e.g., removing all the `csv` files)\n",
    "- keep track of the `translation status` in the google sheet: [https://docs.google.com/spreadsheets/d/1ofA7EQKic4U-KOeLcFiUWbrPUwfjKe0SzgyRUKsyudo/edit?usp=sharing](https://docs.google.com/spreadsheets/d/1ofA7EQKic4U-KOeLcFiUWbrPUwfjKe0SzgyRUKsyudo/edit?usp=sharing)"
   ]
  },
  {
   "cell_type": "code",
   "execution_count": null,
   "id": "7efcaf62-04e9-40f0-aed3-f1651f79e056",
   "metadata": {},
   "outputs": [],
   "source": []
  }
 ],
 "metadata": {
  "kernelspec": {
   "display_name": "Python 3",
   "language": "python",
   "name": "python3"
  },
  "language_info": {
   "codemirror_mode": {
    "name": "ipython",
    "version": 3
   },
   "file_extension": ".py",
   "mimetype": "text/x-python",
   "name": "python",
   "nbconvert_exporter": "python",
   "pygments_lexer": "ipython3",
   "version": "3.8.8"
  }
 },
 "nbformat": 4,
 "nbformat_minor": 5
}
