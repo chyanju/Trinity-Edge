{
 "cells": [
  {
   "cell_type": "code",
   "execution_count": 1,
   "id": "211ecdaa-5265-454d-afde-a88a969d8f26",
   "metadata": {},
   "outputs": [],
   "source": [
    "import pandas as pd\n",
    "import numpy as np\n",
    "import argparse\n",
    "import os\n",
    "import json\n",
    "import time\n",
    "import pickle\n",
    "\n",
    "import trinity.spec as S\n",
    "from trinity.enumerator import LineSkeletonEnumerator\n",
    "from trinity.interpreter import MorpheusInterpreter, MorpheusCoarseAbstractInterpreter, MorpheusPartialInterpreter, MorpheusFineAbstractInterpreter\n",
    "from trinity.decider import Example, MorpheusDecider\n",
    "from trinity.synthesizer import MorpheusSynthesizer\n",
    "from trinity.logger import get_logger\n",
    "from trinity.recorder import get_recorder, set_recorder_dest\n",
    "from trinity.profiler import get_profiler_pool"
   ]
  },
  {
   "cell_type": "code",
   "execution_count": 2,
   "id": "6681cacb-d0fe-448b-ac01-daa2db392e14",
   "metadata": {},
   "outputs": [],
   "source": [
    "from test_morpheus_benchmark import load_example"
   ]
  },
  {
   "cell_type": "code",
   "execution_count": 3,
   "id": "6270edde-299c-4b93-95b2-d8c435a74476",
   "metadata": {},
   "outputs": [],
   "source": [
    "logger = get_logger('trinity')\n",
    "set_recorder_dest(os.path.abspath(\"./logs\"))\n",
    "args = {\n",
    "    \"dsl\": \"test_min\",\n",
    "    \"benchmark\": 5,\n",
    "    \"skeletons\": \"test_min\",\n",
    "    \"record\": False,\n",
    "}"
   ]
  },
  {
   "cell_type": "code",
   "execution_count": 4,
   "id": "7e26d8d7-7838-4c6f-a9cc-ee62a5235566",
   "metadata": {},
   "outputs": [
    {
     "name": "stdout",
     "output_type": "stream",
     "text": [
      "# loading benchmark...\n",
      "# input0 type: [dtype('int64'), dtype('float64'), dtype('float64'), dtype('float64'), dtype('float64')]\n",
      "# input0 is:    ID     T   P.1  P.2  Q.1\n",
      "0   1  24.3  10.2  5.5  4.5\n",
      "1   2  23.4  10.4  5.7  3.2\n",
      "# output type: [dtype('int64'), dtype('O'), dtype('float64'), dtype('float64')]\n",
      "# output is:    ID Channel     T     P\n",
      "0   1       1  24.3  10.2\n",
      "1   2       1  23.4  10.4\n",
      "2   1       2  24.3   5.5\n",
      "3   2       2  23.4   5.7\n",
      "4   1       1  24.3   4.5\n",
      "5   2       1  23.4   3.2\n"
     ]
    }
   ],
   "source": [
    "# load dsl spec\n",
    "spec = None\n",
    "if args[\"dsl\"].startswith(\"test\"):\n",
    "    spec = S.parse_file(\"./benchmarks/morpheus/{}/{}.dsl\".format(args[\"benchmark\"], args[\"dsl\"]))\n",
    "else:\n",
    "    raise Exception(\"You should not reach here.\")\n",
    "\n",
    "# load benchmark\n",
    "print(\"# loading benchmark...\")\n",
    "benchmark_example = load_example(args[\"benchmark\"])\n",
    "\n",
    "print(\"# input0 type: {}\".format(benchmark_example.input[0].dtypes.tolist()))\n",
    "print(\"# input0 is: {}\".format(benchmark_example.input[0]))\n",
    "print(\"# output type: {}\".format(benchmark_example.output.dtypes.tolist()))\n",
    "print(\"# output is: {}\".format(benchmark_example.output))"
   ]
  },
  {
   "cell_type": "code",
   "execution_count": 5,
   "id": "9d792f61-c0c7-4d56-a225-ef4a9b27f8f6",
   "metadata": {},
   "outputs": [],
   "source": [
    "# wrap priority pools\n",
    "# select(separate(gather(@param0, ['-99', '-1']), 2), ['-3'])\n",
    "priority_pools = [\n",
    "    # only 1 skeleton, order list according to depth-first post-order order\n",
    "    [\n",
    "        # arguments for gather\n",
    "        [\n",
    "            spec.get_enum_production(spec.get_type(\"ColList\"),['-99', '-1'])\n",
    "        ],\n",
    "        # arguments for separate\n",
    "        [\n",
    "            spec.get_enum_production(spec.get_type(\"ColInt\"),\"2\")\n",
    "        ],\n",
    "        # arguments for select\n",
    "        [\n",
    "            spec.get_enum_production(spec.get_type(\"ColList\"),['-3'])\n",
    "        ]\n",
    "    ]\n",
    "]"
   ]
  },
  {
   "cell_type": "code",
   "execution_count": 6,
   "id": "4121b773-5be7-41c2-bec4-afb7aa2ec775",
   "metadata": {},
   "outputs": [
    {
     "name": "stdout",
     "output_type": "stream",
     "text": [
      "# loading skeleton list...\n",
      "Profiler: trinity.interpreter.morpheus\n",
      "|- counters\n",
      "   |- cache_hit.gather: 2\n",
      "   |- cache_hit.separate: 1\n",
      "   |- interpreter.eval_gather: 3\n",
      "   |- interpreter.eval_select: 1\n",
      "   |- interpreter.eval_separate: 2\n",
      "|- timers (cumulative)\n",
      "   |- interpreter.equal_tb: 0.0\n",
      "   |- interpreter.eval_gather: 0.02\n",
      "   |- interpreter.eval_select: 0.0\n",
      "   |- interpreter.eval_separate: 0.01\n",
      "|- timers (sequential)\n",
      "\n",
      "Profiler: trinity.enumerator.line_skeleton\n",
      "|- counters\n",
      "|- timers (cumulative)\n",
      "   |- check_iterator: 0.0\n",
      "   |- iterator.check_combination: 0.0\n",
      "   |- iterator.construct_ast: 0.0\n",
      "   |- iterator.next: 0.0\n",
      "   |- next: 0.0\n",
      "|- timers (sequential)\n",
      "\n",
      "Profiler: trinity.decider.morpheus\n",
      "|- counters\n",
      "   |- analyze.equality: 1\n",
      "   |- analyze.full_skeleton: 1\n",
      "   |- analyze.partial_evaluation: 2\n",
      "|- timers (cumulative)\n",
      "   |- analyze.equality: 0.0\n",
      "   |- analyze.full_skeleton: 0.0\n",
      "   |- analyze.partial_evaluation: 0.04\n",
      "   |- analyze.total: 0.04\n",
      "|- timers (sequential)\n",
      "\n",
      "Profiler: trinity.synthesizer.morpheus\n",
      "|- counters\n",
      "   |- concrete.programs: 1\n",
      "|- timers (cumulative)\n",
      "   |- synthesize: 0.04\n",
      "|- timers (sequential)\n",
      "\n",
      "# search space (skeletons): 1\n",
      "# search space (concrete programs): 1\n",
      "[[\"function\", \"select\"], [[\"function\", \"separate\"], [[\"function\", \"gather\"], [\"param\", 0], [\"enum\", \"ColList\", [\"-99\", \"-1\"]]], [\"enum\", \"ColInt\", \"2\"]], [\"enum\", \"ColList\", [\"-3\"]]]\n"
     ]
    }
   ],
   "source": [
    "# load skeleton\n",
    "print(\"# loading skeleton list...\")\n",
    "skeleton_list = None\n",
    "if args[\"skeletons\"].startswith(\"test\"):\n",
    "    with open(\"./benchmarks/morpheus/{}/{}_skeletons.json\".format(args[\"benchmark\"], args[\"skeletons\"]), \"r\") as f:\n",
    "        skeleton_list = json.load(f)\n",
    "else:\n",
    "    with open(\"./skeletons/{}_skeletons.json\".format(args[\"skeletons\"]), \"r\") as f:\n",
    "        skeleton_list = json.load(f)\n",
    "\n",
    "enumerator = LineSkeletonEnumerator( spec=spec, cands=skeleton_list, pools=priority_pools )\n",
    "interpreter = MorpheusInterpreter( spec=spec )\n",
    "# coarse: perform skeleton level abstract interpretation, throws SkeletonAssertion\n",
    "coarse_abstract_interpreter = MorpheusCoarseAbstractInterpreter()\n",
    "# fine: perform finer level (sub-skeleton level) abstract interpretation throws EnumAssertion\n",
    "fine_abstract_interpreter = MorpheusFineAbstractInterpreter( spec=spec )\n",
    "partial_interpreter = MorpheusPartialInterpreter(\n",
    "    interpreter=interpreter,\n",
    "    # partial interpreter currently only works with coarse abstract interpreter\n",
    "    # abstract_interpreter=fine_abstract_interpreter,\n",
    "    abstract_interpreter=coarse_abstract_interpreter,\n",
    ")\n",
    "\n",
    "# print some basic info\n",
    "# print(\"# search space (skeletons): {}\".format(len(enumerator._iters)))\n",
    "# print(\"# search space (concrete programs): {}\".format(\n",
    "#     sum([len(p) for p in enumerator._iters])\n",
    "# ))\n",
    "# input(\"press to start\")\n",
    "recorder = None\n",
    "if args[\"record\"]:\n",
    "    recorder = get_recorder(\"test.b={}.d={}.s={}\".format(\n",
    "        args[\"benchmark\"], args[\"dsl\"], args[\"skeletons\"]\n",
    "    ))\n",
    "\n",
    "decider = MorpheusDecider( \n",
    "    interpreter=interpreter, \n",
    "    coarse_abstract_interpreter=coarse_abstract_interpreter,\n",
    "    # fine_abstract_interpreter=fine_abstract_interpreter,\n",
    "    partial_interpreter=partial_interpreter,\n",
    "    examples=[benchmark_example], \n",
    "    equal_output=interpreter.equal_tb,\n",
    "    recorder=recorder,\n",
    ")\n",
    "synthesizer = MorpheusSynthesizer(\n",
    "    enumerator=enumerator,\n",
    "    decider=decider\n",
    ")\n",
    "\n",
    "program = synthesizer.synthesize()\n",
    "\n",
    "ppool = get_profiler_pool()\n",
    "for p in ppool.keys():\n",
    "    print(ppool[p])\n",
    "    if recorder:\n",
    "        recorder.record((\"Profiler\", str(ppool[p])))\n",
    "\n",
    "print(\"# search space (skeletons): {}\".format(len(enumerator._iters[:enumerator._iter_ptr+1])))\n",
    "print(\"# search space (concrete programs): {}\".format(\n",
    "    sum([len(p) for p in enumerator._iters[:enumerator._iter_ptr+1]])\n",
    "))\n",
    "\n",
    "if program is None:\n",
    "    logger.info('Exhausted.')\n",
    "else:\n",
    "    logger.info(\"Accepted: {}.\".format(program))\n",
    "    print(\"{}\".format(str(program.to_jsonexp()).replace(\"'\",'\"')))"
   ]
  },
  {
   "cell_type": "code",
   "execution_count": null,
   "id": "4fecc575-ea81-448b-98cb-ebfcef8776e1",
   "metadata": {},
   "outputs": [],
   "source": []
  },
  {
   "cell_type": "code",
   "execution_count": null,
   "id": "accd3bbb-ae47-4a4b-a586-03683a1de7bc",
   "metadata": {},
   "outputs": [],
   "source": []
  },
  {
   "cell_type": "code",
   "execution_count": null,
   "id": "ff803ebe-fda4-4e22-b2ba-ad5f396aad46",
   "metadata": {},
   "outputs": [],
   "source": []
  },
  {
   "cell_type": "code",
   "execution_count": null,
   "id": "63fbd809-f45b-48d4-b18b-517cdfad8e5c",
   "metadata": {},
   "outputs": [],
   "source": []
  },
  {
   "cell_type": "code",
   "execution_count": 5,
   "id": "79794f90-436e-4490-a290-5a476e6db07c",
   "metadata": {},
   "outputs": [
    {
     "data": {
      "text/plain": [
       "<trinity.spec.spec.TrinitySpec at 0x7fc0725cf7c0>"
      ]
     },
     "execution_count": 5,
     "metadata": {},
     "output_type": "execute_result"
    }
   ],
   "source": [
    "spec"
   ]
  },
  {
   "cell_type": "code",
   "execution_count": 6,
   "id": "c87c70ae-043f-4154-a551-4a366281af49",
   "metadata": {},
   "outputs": [
    {
     "data": {
      "text/plain": [
       "<bound method TrinitySpec.get_enum_production of <trinity.spec.spec.TrinitySpec object at 0x7fc0725cf7c0>>"
      ]
     },
     "execution_count": 6,
     "metadata": {},
     "output_type": "execute_result"
    }
   ],
   "source": [
    "spec.get_enum_production()"
   ]
  },
  {
   "cell_type": "code",
   "execution_count": 7,
   "id": "63b16ad3-d48b-45af-99e1-c91844506936",
   "metadata": {},
   "outputs": [
    {
     "data": {
      "text/plain": [
       "EnumProduction(id=79, lhs=EnumType(ColList, domain=[['0'], ['1'], ['2'], ['3'], ['4'], ['5'], ['-99'], ['-1'], ['-2'], ['-3'], ['-4'], ['-5'], ['0', '1'], ['0', '2'], ['0', '3'], ['0', '4'], ['0', '5'], ['0', '-99'], ['0', '-1'], ['0', '-2'], ['0', '-3'], ['0', '-4'], ['0', '-5'], ['1', '2'], ['1', '3'], ['1', '4'], ['1', '5'], ['1', '-99'], ['1', '-1'], ['1', '-2'], ['1', '-3'], ['1', '-4'], ['1', '-5'], ['2', '3'], ['2', '4'], ['2', '5'], ['2', '-99'], ['2', '-1'], ['2', '-2'], ['2', '-3'], ['2', '-4'], ['2', '-5'], ['3', '4'], ['3', '5'], ['3', '-99'], ['3', '-1'], ['3', '-2'], ['3', '-3'], ['3', '-4'], ['3', '-5'], ['4', '5'], ['4', '-99'], ['4', '-1'], ['4', '-2'], ['4', '-3'], ['4', '-4'], ['4', '-5'], ['5', '-99'], ['5', '-1'], ['5', '-2'], ['5', '-3'], ['5', '-4'], ['5', '-5'], ['-99', '-1'], ['-99', '-2'], ['-99', '-3'], ['-99', '-4'], ['-99', '-5'], ['-1', '-2'], ['-1', '-3'], ['-1', '-4'], ['-1', '-5'], ['-2', '-3'], ['-2', '-4'], ['-2', '-5'], ['-3', '-4'], ['-3', '-5'], ['-4', '-5']]), choice=63)"
      ]
     },
     "execution_count": 7,
     "metadata": {},
     "output_type": "execute_result"
    }
   ],
   "source": [
    "spec.get_enum_production(spec.get_type(\"ColList\"),['-99', '-1'])"
   ]
  },
  {
   "cell_type": "code",
   "execution_count": 8,
   "id": "18ed5dbc-4321-4614-ba52-2b10b454de9a",
   "metadata": {},
   "outputs": [
    {
     "data": {
      "text/plain": [
       "EnumProduction(id=11, lhs=EnumType(ColInt, domain=['0', '1', '2', '3', '4', '5']), choice=2)"
      ]
     },
     "execution_count": 8,
     "metadata": {},
     "output_type": "execute_result"
    }
   ],
   "source": [
    "spec.get_enum_production(spec.get_type(\"ColInt\"),\"2\")"
   ]
  },
  {
   "cell_type": "code",
   "execution_count": null,
   "id": "b3620f89-7ff9-4dc0-afcd-5f57bb26be81",
   "metadata": {},
   "outputs": [],
   "source": []
  }
 ],
 "metadata": {
  "kernelspec": {
   "display_name": "base",
   "language": "python",
   "name": "base"
  },
  "language_info": {
   "codemirror_mode": {
    "name": "ipython",
    "version": 3
   },
   "file_extension": ".py",
   "mimetype": "text/x-python",
   "name": "python",
   "nbconvert_exporter": "python",
   "pygments_lexer": "ipython3",
   "version": "3.8.8"
  }
 },
 "nbformat": 4,
 "nbformat_minor": 5
}
