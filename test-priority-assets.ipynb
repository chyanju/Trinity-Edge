{
 "cells": [
  {
   "cell_type": "code",
   "execution_count": 1,
   "id": "31e02e42-9a47-476d-b1a3-0e78c2047ff2",
   "metadata": {},
   "outputs": [],
   "source": [
    "import pandas as pd\n",
    "import numpy as np\n",
    "import argparse\n",
    "import os\n",
    "import json\n",
    "import time\n",
    "import pickle\n",
    "import random\n",
    "\n",
    "import trinity.spec as S\n",
    "from trinity.enumerator import LineSkeletonPriorityEnumerator\n",
    "from trinity.enumerator import LineSkeletonEnumerator\n",
    "from trinity.interpreter import MorpheusInterpreter, MorpheusCoarseAbstractInterpreter, MorpheusPartialInterpreter, MorpheusFineAbstractInterpreter\n",
    "from trinity.decider import Example, MorpheusDecider\n",
    "from trinity.synthesizer import MorpheusSynthesizer\n",
    "from trinity.logger import get_logger\n",
    "from trinity.recorder import get_recorder, set_recorder_dest\n",
    "from trinity.profiler import get_profiler_pool"
   ]
  },
  {
   "cell_type": "code",
   "execution_count": 2,
   "id": "16862e0a-db79-46fb-b941-c8b74bddba01",
   "metadata": {},
   "outputs": [],
   "source": [
    "from test_morpheus_benchmark import load_example\n",
    "\n",
    "logger = get_logger('trinity')\n",
    "logger.setLevel('DEBUG')\n",
    "set_recorder_dest(os.path.abspath(\"./logs\"))\n",
    "args = {\n",
    "    \"dsl\": \"test_min\",\n",
    "    \"benchmark\": 5,\n",
    "    \"skeletons\": \"test_min\",\n",
    "    \"record\": False,\n",
    "}"
   ]
  },
  {
   "cell_type": "code",
   "execution_count": 3,
   "id": "07835c90-c2e9-4a54-b4e5-932b8119166a",
   "metadata": {},
   "outputs": [
    {
     "name": "stderr",
     "output_type": "stream",
     "text": [
      "\u001b[32m[debug] \u001b[0mBuilding Trinity spec from parse tree...\n",
      "\u001b[32m[debug] \u001b[0mProcessing type definitions...\n",
      "\u001b[32m[debug] \u001b[0mProcessing input/output definitions...\n",
      "\u001b[32m[debug] \u001b[0mProcessing function definitions...\n",
      "\u001b[32m[debug] \u001b[0mProcessing global predicates...\n"
     ]
    },
    {
     "name": "stdout",
     "output_type": "stream",
     "text": [
      "# loading benchmark...\n",
      "# input0 type: [dtype('int64'), dtype('float64'), dtype('float64'), dtype('float64'), dtype('float64')]\n",
      "# input0 is:    ID     T   P.1  P.2  Q.1\n",
      "0   1  24.3  10.2  5.5  4.5\n",
      "1   2  23.4  10.4  5.7  3.2\n",
      "# output type: [dtype('int64'), dtype('O'), dtype('float64'), dtype('float64')]\n",
      "# output is:    ID Channel     T     P\n",
      "0   1       1  24.3  10.2\n",
      "1   2       1  23.4  10.4\n",
      "2   1       2  24.3   5.5\n",
      "3   2       2  23.4   5.7\n",
      "4   1       1  24.3   4.5\n",
      "5   2       1  23.4   3.2\n"
     ]
    }
   ],
   "source": [
    "# load dsl spec\n",
    "spec = None\n",
    "if args[\"dsl\"].startswith(\"test\"):\n",
    "    spec = S.parse_file(\"./benchmarks/morpheus/{}/{}.dsl\".format(args[\"benchmark\"], args[\"dsl\"]))\n",
    "else:\n",
    "    raise Exception(\"You should not reach here.\")\n",
    "\n",
    "# load benchmark\n",
    "print(\"# loading benchmark...\")\n",
    "benchmark_example = load_example(args[\"benchmark\"])\n",
    "\n",
    "print(\"# input0 type: {}\".format(benchmark_example.input[0].dtypes.tolist()))\n",
    "print(\"# input0 is: {}\".format(benchmark_example.input[0]))\n",
    "print(\"# output type: {}\".format(benchmark_example.output.dtypes.tolist()))\n",
    "print(\"# output is: {}\".format(benchmark_example.output))"
   ]
  },
  {
   "cell_type": "code",
   "execution_count": 4,
   "id": "0dd7dee8-4729-4bdd-bd7c-e4b90059ffe5",
   "metadata": {},
   "outputs": [],
   "source": [
    "# cirtical: append scores to each production\n",
    "s0 = 0\n",
    "for p in spec.productions():\n",
    "    # p.score = 1\n",
    "    # p.score = random.random()\n",
    "    p.score = s0\n",
    "    s0 += 1"
   ]
  },
  {
   "cell_type": "code",
   "execution_count": 5,
   "id": "c9ea7750-2819-4f0f-bf4a-e963949a67d8",
   "metadata": {},
   "outputs": [
    {
     "name": "stdout",
     "output_type": "stream",
     "text": [
      "# loading skeleton list...\n"
     ]
    }
   ],
   "source": [
    "# load skeleton\n",
    "print(\"# loading skeleton list...\")\n",
    "skeleton_list = None\n",
    "if args[\"skeletons\"].startswith(\"test\"):\n",
    "    with open(\"./benchmarks/morpheus/{}/{}_skeletons.json\".format(args[\"benchmark\"], args[\"skeletons\"]), \"r\") as f:\n",
    "        skeleton_list = json.load(f)\n",
    "else:\n",
    "    with open(\"./skeletons/{}_skeletons.json\".format(args[\"skeletons\"]), \"r\") as f:\n",
    "        skeleton_list = json.load(f)"
   ]
  },
  {
   "cell_type": "code",
   "execution_count": 6,
   "id": "b92ff669-1ce3-49e8-9bab-782644a9e55e",
   "metadata": {},
   "outputs": [
    {
     "name": "stderr",
     "output_type": "stream",
     "text": [
      "\u001b[34m[info] \u001b[0mThe following types contain non-terminal production rules: Empty, Table. Try not to leave them as holes in your skeleton. Even though a spawning procedure can try to complete them, a cyclic substitution may still happen.\n"
     ]
    }
   ],
   "source": [
    "enumerator = LineSkeletonPriorityEnumerator( spec=spec, cands=skeleton_list )\n",
    "# enumerator = LineSkeletonEnumerator( spec=spec, cands=skeleton_list )\n",
    "interpreter = MorpheusInterpreter( spec=spec )\n",
    "# coarse: perform skeleton level abstract interpretation, throws SkeletonAssertion\n",
    "coarse_abstract_interpreter = MorpheusCoarseAbstractInterpreter()\n",
    "# fine: perform finer level (sub-skeleton level) abstract interpretation throws EnumAssertion\n",
    "fine_abstract_interpreter = MorpheusFineAbstractInterpreter( spec=spec )\n",
    "partial_interpreter = MorpheusPartialInterpreter(\n",
    "    interpreter=interpreter,\n",
    "    # partial interpreter currently only works with coarse abstract interpreter\n",
    "    # abstract_interpreter=fine_abstract_interpreter,\n",
    "    abstract_interpreter=coarse_abstract_interpreter,\n",
    ")\n",
    "\n",
    "# print some basic info\n",
    "# print(\"# search space (skeletons): {}\".format(len(enumerator._iters)))\n",
    "# print(\"# search space (concrete programs): {}\".format(\n",
    "#     sum([len(p) for p in enumerator._iters])\n",
    "# ))\n",
    "# input(\"press to start\")\n",
    "recorder = None\n",
    "\n",
    "decider = MorpheusDecider( \n",
    "    interpreter=interpreter, \n",
    "    coarse_abstract_interpreter=coarse_abstract_interpreter,\n",
    "    # fine_abstract_interpreter=fine_abstract_interpreter,\n",
    "    partial_interpreter=partial_interpreter,\n",
    "    examples=[benchmark_example], \n",
    "    equal_output=interpreter.equal_tb,\n",
    "    recorder=recorder,\n",
    ")\n",
    "synthesizer = MorpheusSynthesizer(\n",
    "    enumerator=enumerator,\n",
    "    decider=decider\n",
    ")"
   ]
  },
  {
   "cell_type": "code",
   "execution_count": 7,
   "id": "4959e24e-d52a-4107-bfb4-ac5b878a2d7a",
   "metadata": {
    "scrolled": true,
    "tags": []
   },
   "outputs": [
    {
     "name": "stderr",
     "output_type": "stream",
     "text": [
      "\u001b[32m[debug] \u001b[0m---> select(separate(gather(@param0, ['0']), 0), ['0'])\n",
      "\u001b[32m[debug] \u001b[0mProposed: select(separate(gather(@param0, ['0']), 0), ['0']).\n",
      "\u001b[32m[debug] \u001b[0mRejected: EnumAssertion:partial:step1.\n",
      "\u001b[32m[debug] \u001b[0m---> select(separate(gather(@param0, ['1']), 0), ['0'])\n",
      "\u001b[32m[debug] \u001b[0mProposed: select(separate(gather(@param0, ['1']), 0), ['0']).\n",
      "\u001b[32m[debug] \u001b[0mRejected: EnumAssertion:partial:step1.\n",
      "\u001b[32m[debug] \u001b[0m---> select(separate(gather(@param0, ['2']), 0), ['0'])\n",
      "\u001b[32m[debug] \u001b[0mProposed: select(separate(gather(@param0, ['2']), 0), ['0']).\n",
      "\u001b[32m[debug] \u001b[0mRejected: EnumAssertion:partial:step1.\n",
      "\u001b[32m[debug] \u001b[0m---> select(separate(gather(@param0, ['3']), 0), ['0'])\n",
      "\u001b[32m[debug] \u001b[0mProposed: select(separate(gather(@param0, ['3']), 0), ['0']).\n",
      "\u001b[32m[debug] \u001b[0mRejected: EnumAssertion:partial:step1.\n",
      "\u001b[32m[debug] \u001b[0m---> select(separate(gather(@param0, ['4']), 0), ['0'])\n",
      "\u001b[32m[debug] \u001b[0mProposed: select(separate(gather(@param0, ['4']), 0), ['0']).\n",
      "\u001b[32m[debug] \u001b[0mRejected: EnumAssertion:partial:step1.\n",
      "\u001b[32m[debug] \u001b[0m---> select(separate(gather(@param0, ['5']), 0), ['0'])\n",
      "\u001b[32m[debug] \u001b[0mProposed: select(separate(gather(@param0, ['5']), 0), ['0']).\n",
      "\u001b[32m[debug] \u001b[0mRejected: EnumAssertion:gather:0.\n",
      "\u001b[32m[debug] \u001b[0m---> select(separate(gather(@param0, ['-99']), 0), ['0'])\n",
      "\u001b[32m[debug] \u001b[0mProposed: select(separate(gather(@param0, ['-99']), 0), ['0']).\n",
      "\u001b[32m[debug] \u001b[0mRejected: EnumAssertion:partial:step1.\n",
      "\u001b[32m[debug] \u001b[0m---> select(separate(gather(@param0, ['-1']), 0), ['0'])\n",
      "\u001b[32m[debug] \u001b[0mProposed: select(separate(gather(@param0, ['-1']), 0), ['0']).\n",
      "\u001b[32m[debug] \u001b[0mRejected: EnumAssertion:gather:0.\n",
      "\u001b[32m[debug] \u001b[0m---> select(separate(gather(@param0, ['-2']), 0), ['0'])\n",
      "\u001b[32m[debug] \u001b[0mProposed: select(separate(gather(@param0, ['-2']), 0), ['0']).\n",
      "\u001b[32m[debug] \u001b[0mRejected: EnumAssertion:gather:0.\n",
      "\u001b[32m[debug] \u001b[0m---> select(separate(gather(@param0, ['-3']), 0), ['0'])\n",
      "\u001b[32m[debug] \u001b[0mProposed: select(separate(gather(@param0, ['-3']), 0), ['0']).\n"
     ]
    },
    {
     "name": "stdout",
     "output_type": "stream",
     "text": [
      "# best score is: 152, from: [152]\n",
      "# best score is: 153, from: [153]\n",
      "# best score is: 154, from: [154]\n",
      "# best score is: 155, from: [155]\n",
      "# best score is: 156, from: [156]\n",
      "# best score is: 157, from: [157]\n",
      "# best score is: 158, from: [158]\n",
      "# best score is: 159, from: [159]\n",
      "# best score is: 160, from: [160]\n",
      "# best score is: 161, from: [161]\n"
     ]
    },
    {
     "name": "stderr",
     "output_type": "stream",
     "text": [
      "\u001b[32m[debug] \u001b[0mRejected: EnumAssertion:gather:0.\n",
      "\u001b[32m[debug] \u001b[0m---> select(separate(gather(@param0, ['-4']), 0), ['0'])\n",
      "\u001b[32m[debug] \u001b[0mProposed: select(separate(gather(@param0, ['-4']), 0), ['0']).\n",
      "\u001b[32m[debug] \u001b[0mRejected: EnumAssertion:gather:0.\n",
      "\u001b[32m[debug] \u001b[0m---> select(separate(gather(@param0, ['-5']), 0), ['0'])\n",
      "\u001b[32m[debug] \u001b[0mProposed: select(separate(gather(@param0, ['-5']), 0), ['0']).\n",
      "\u001b[32m[debug] \u001b[0mRejected: EnumAssertion:gather:0.\n",
      "\u001b[32m[debug] \u001b[0m---> select(separate(gather(@param0, ['0', '1']), 0), ['0'])\n",
      "\u001b[32m[debug] \u001b[0mProposed: select(separate(gather(@param0, ['0', '1']), 0), ['0']).\n",
      "\u001b[32m[debug] \u001b[0mRejected: EnumAssertion:gather:0.\n",
      "\u001b[32m[debug] \u001b[0m---> select(separate(gather(@param0, ['0', '2']), 0), ['0'])\n",
      "\u001b[32m[debug] \u001b[0mProposed: select(separate(gather(@param0, ['0', '2']), 0), ['0']).\n",
      "\u001b[32m[debug] \u001b[0mRejected: EnumAssertion:gather:0.\n",
      "\u001b[32m[debug] \u001b[0m---> select(separate(gather(@param0, ['0', '3']), 0), ['0'])\n",
      "\u001b[32m[debug] \u001b[0mProposed: select(separate(gather(@param0, ['0', '3']), 0), ['0']).\n",
      "\u001b[32m[debug] \u001b[0mRejected: EnumAssertion:gather:0.\n",
      "\u001b[32m[debug] \u001b[0m---> select(separate(gather(@param0, ['0', '4']), 0), ['0'])\n",
      "\u001b[32m[debug] \u001b[0mProposed: select(separate(gather(@param0, ['0', '4']), 0), ['0']).\n",
      "\u001b[32m[debug] \u001b[0mRejected: EnumAssertion:gather:0.\n",
      "\u001b[32m[debug] \u001b[0m---> select(separate(gather(@param0, ['0', '5']), 0), ['0'])\n",
      "\u001b[32m[debug] \u001b[0mProposed: select(separate(gather(@param0, ['0', '5']), 0), ['0']).\n",
      "\u001b[32m[debug] \u001b[0mRejected: EnumAssertion:gather:0.\n",
      "\u001b[32m[debug] \u001b[0m---> select(separate(gather(@param0, ['0', '-99']), 0), ['0'])\n",
      "\u001b[32m[debug] \u001b[0mProposed: select(separate(gather(@param0, ['0', '-99']), 0), ['0']).\n"
     ]
    },
    {
     "name": "stdout",
     "output_type": "stream",
     "text": [
      "# best score is: 162, from: [162]\n",
      "# best score is: 163, from: [163]\n",
      "# best score is: 164, from: [164]\n",
      "# best score is: 165, from: [165]\n",
      "# best score is: 166, from: [166]\n",
      "# best score is: 167, from: [167]\n",
      "# best score is: 168, from: [168]\n",
      "# best score is: 169, from: [169]\n"
     ]
    },
    {
     "name": "stderr",
     "output_type": "stream",
     "text": [
      "\u001b[32m[debug] \u001b[0mRejected: EnumAssertion:gather:0.\n",
      "\u001b[32m[debug] \u001b[0m---> select(separate(gather(@param0, ['0', '-1']), 0), ['0'])\n",
      "\u001b[32m[debug] \u001b[0mProposed: select(separate(gather(@param0, ['0', '-1']), 0), ['0']).\n",
      "\u001b[32m[debug] \u001b[0mRejected: EnumAssertion:gather:0.\n",
      "\u001b[32m[debug] \u001b[0m---> select(separate(gather(@param0, ['0', '-2']), 0), ['0'])\n",
      "\u001b[32m[debug] \u001b[0mProposed: select(separate(gather(@param0, ['0', '-2']), 0), ['0']).\n",
      "\u001b[32m[debug] \u001b[0mRejected: EnumAssertion:gather:0.\n",
      "\u001b[32m[debug] \u001b[0m---> select(separate(gather(@param0, ['0', '-3']), 0), ['0'])\n",
      "\u001b[32m[debug] \u001b[0mProposed: select(separate(gather(@param0, ['0', '-3']), 0), ['0']).\n",
      "\u001b[32m[debug] \u001b[0mRejected: EnumAssertion:gather:0.\n",
      "\u001b[32m[debug] \u001b[0m---> select(separate(gather(@param0, ['0', '-4']), 0), ['0'])\n",
      "\u001b[32m[debug] \u001b[0mProposed: select(separate(gather(@param0, ['0', '-4']), 0), ['0']).\n",
      "\u001b[32m[debug] \u001b[0mRejected: EnumAssertion:gather:0.\n",
      "\u001b[32m[debug] \u001b[0m---> select(separate(gather(@param0, ['0', '-5']), 0), ['0'])\n",
      "\u001b[32m[debug] \u001b[0mProposed: select(separate(gather(@param0, ['0', '-5']), 0), ['0']).\n",
      "\u001b[32m[debug] \u001b[0mRejected: EnumAssertion:gather:0.\n",
      "\u001b[32m[debug] \u001b[0m---> select(separate(gather(@param0, ['1', '2']), 0), ['0'])\n",
      "\u001b[32m[debug] \u001b[0mProposed: select(separate(gather(@param0, ['1', '2']), 0), ['0']).\n",
      "\u001b[32m[debug] \u001b[0mRejected: EnumAssertion:partial:step1.\n",
      "\u001b[32m[debug] \u001b[0m---> select(separate(gather(@param0, ['1', '3']), 0), ['0'])\n",
      "\u001b[32m[debug] \u001b[0mProposed: select(separate(gather(@param0, ['1', '3']), 0), ['0']).\n",
      "\u001b[32m[debug] \u001b[0mRejected: EnumAssertion:partial:step1.\n",
      "\u001b[32m[debug] \u001b[0m---> select(separate(gather(@param0, ['1', '4']), 0), ['0'])\n",
      "\u001b[32m[debug] \u001b[0mProposed: select(separate(gather(@param0, ['1', '4']), 0), ['0']).\n",
      "\u001b[32m[debug] \u001b[0mRejected: EnumAssertion:partial:step1.\n"
     ]
    },
    {
     "name": "stdout",
     "output_type": "stream",
     "text": [
      "# best score is: 170, from: [170]\n",
      "# best score is: 171, from: [171]\n",
      "# best score is: 172, from: [172]\n",
      "# best score is: 173, from: [173]\n",
      "# best score is: 174, from: [174]\n",
      "# best score is: 175, from: [175]\n",
      "# best score is: 176, from: [176]\n",
      "# best score is: 177, from: [177]\n"
     ]
    },
    {
     "name": "stderr",
     "output_type": "stream",
     "text": [
      "\u001b[32m[debug] \u001b[0m---> select(separate(gather(@param0, ['1', '5']), 0), ['0'])\n",
      "\u001b[32m[debug] \u001b[0mProposed: select(separate(gather(@param0, ['1', '5']), 0), ['0']).\n",
      "\u001b[32m[debug] \u001b[0mRejected: EnumAssertion:gather:0.\n",
      "\u001b[32m[debug] \u001b[0m---> select(separate(gather(@param0, ['1', '-99']), 0), ['0'])\n",
      "\u001b[32m[debug] \u001b[0mProposed: select(separate(gather(@param0, ['1', '-99']), 0), ['0']).\n",
      "\u001b[32m[debug] \u001b[0mRejected: EnumAssertion:gather:0.\n",
      "\u001b[32m[debug] \u001b[0m---> select(separate(gather(@param0, ['1', '-1']), 0), ['0'])\n",
      "\u001b[32m[debug] \u001b[0mProposed: select(separate(gather(@param0, ['1', '-1']), 0), ['0']).\n",
      "\u001b[32m[debug] \u001b[0mRejected: EnumAssertion:gather:0.\n",
      "\u001b[32m[debug] \u001b[0m---> select(separate(gather(@param0, ['1', '-2']), 0), ['0'])\n",
      "\u001b[32m[debug] \u001b[0mProposed: select(separate(gather(@param0, ['1', '-2']), 0), ['0']).\n",
      "\u001b[32m[debug] \u001b[0mRejected: EnumAssertion:gather:0.\n",
      "\u001b[32m[debug] \u001b[0m---> select(separate(gather(@param0, ['1', '-3']), 0), ['0'])\n",
      "\u001b[32m[debug] \u001b[0mProposed: select(separate(gather(@param0, ['1', '-3']), 0), ['0']).\n",
      "\u001b[32m[debug] \u001b[0mRejected: EnumAssertion:gather:0.\n",
      "\u001b[32m[debug] \u001b[0m---> select(separate(gather(@param0, ['1', '-4']), 0), ['0'])\n",
      "\u001b[32m[debug] \u001b[0mProposed: select(separate(gather(@param0, ['1', '-4']), 0), ['0']).\n",
      "\u001b[32m[debug] \u001b[0mRejected: EnumAssertion:gather:0.\n",
      "\u001b[32m[debug] \u001b[0m---> select(separate(gather(@param0, ['1', '-5']), 0), ['0'])\n",
      "\u001b[32m[debug] \u001b[0mProposed: select(separate(gather(@param0, ['1', '-5']), 0), ['0']).\n",
      "\u001b[32m[debug] \u001b[0mRejected: EnumAssertion:gather:0.\n"
     ]
    },
    {
     "name": "stdout",
     "output_type": "stream",
     "text": [
      "# best score is: 178, from: [178]\n",
      "# best score is: 179, from: [179]\n",
      "# best score is: 180, from: [180]\n",
      "# best score is: 181, from: [181]\n",
      "# best score is: 182, from: [182]\n",
      "# best score is: 183, from: [183]\n",
      "# best score is: 184, from: [184]\n",
      "# best score is: 185, from: [185]"
     ]
    },
    {
     "name": "stderr",
     "output_type": "stream",
     "text": [
      "\u001b[32m[debug] \u001b[0m---> select(separate(gather(@param0, ['2', '3']), 0), ['0'])\n",
      "\u001b[32m[debug] \u001b[0mProposed: select(separate(gather(@param0, ['2', '3']), 0), ['0']).\n",
      "\u001b[32m[debug] \u001b[0mRejected: EnumAssertion:partial:step1.\n",
      "\u001b[32m[debug] \u001b[0m---> select(separate(gather(@param0, ['2', '4']), 0), ['0'])\n",
      "\u001b[32m[debug] \u001b[0mProposed: select(separate(gather(@param0, ['2', '4']), 0), ['0']).\n",
      "\u001b[32m[debug] \u001b[0mRejected: EnumAssertion:partial:step1.\n",
      "\u001b[32m[debug] \u001b[0m---> select(separate(gather(@param0, ['2', '5']), 0), ['0'])\n",
      "\u001b[32m[debug] \u001b[0mProposed: select(separate(gather(@param0, ['2', '5']), 0), ['0']).\n",
      "\u001b[32m[debug] \u001b[0mRejected: EnumAssertion:gather:0.\n",
      "\u001b[32m[debug] \u001b[0m---> select(separate(gather(@param0, ['2', '-99']), 0), ['0'])\n",
      "\u001b[32m[debug] \u001b[0mProposed: select(separate(gather(@param0, ['2', '-99']), 0), ['0']).\n",
      "\u001b[32m[debug] \u001b[0mRejected: EnumAssertion:gather:0.\n",
      "\u001b[32m[debug] \u001b[0m---> select(separate(gather(@param0, ['2', '-1']), 0), ['0'])\n",
      "\u001b[32m[debug] \u001b[0mProposed: select(separate(gather(@param0, ['2', '-1']), 0), ['0']).\n",
      "\u001b[32m[debug] \u001b[0mRejected: EnumAssertion:gather:0.\n",
      "\u001b[32m[debug] \u001b[0m---> select(separate(gather(@param0, ['2', '-2']), 0), ['0'])\n",
      "\u001b[32m[debug] \u001b[0mProposed: select(separate(gather(@param0, ['2', '-2']), 0), ['0']).\n",
      "\u001b[32m[debug] \u001b[0mRejected: EnumAssertion:gather:0.\n",
      "\u001b[32m[debug] \u001b[0m---> select(separate(gather(@param0, ['2', '-3']), 0), ['0'])\n",
      "\u001b[32m[debug] \u001b[0mProposed: select(separate(gather(@param0, ['2', '-3']), 0), ['0']).\n",
      "\u001b[32m[debug] \u001b[0mRejected: EnumAssertion:gather:0.\n"
     ]
    },
    {
     "name": "stdout",
     "output_type": "stream",
     "text": [
      "\n",
      "# best score is: 186, from: [186]\n",
      "# best score is: 187, from: [187]\n",
      "# best score is: 188, from: [188]\n",
      "# best score is: 189, from: [189]\n",
      "# best score is: 190, from: [190]\n",
      "# best score is: 191, from: [191]\n",
      "# best score is: 192, from: [192]"
     ]
    },
    {
     "name": "stderr",
     "output_type": "stream",
     "text": [
      "\u001b[32m[debug] \u001b[0m---> select(separate(gather(@param0, ['2', '-4']), 0), ['0'])\n",
      "\u001b[32m[debug] \u001b[0mProposed: select(separate(gather(@param0, ['2', '-4']), 0), ['0']).\n",
      "\u001b[32m[debug] \u001b[0mRejected: EnumAssertion:gather:0.\n",
      "\u001b[32m[debug] \u001b[0m---> select(separate(gather(@param0, ['2', '-5']), 0), ['0'])\n",
      "\u001b[32m[debug] \u001b[0mProposed: select(separate(gather(@param0, ['2', '-5']), 0), ['0']).\n",
      "\u001b[32m[debug] \u001b[0mRejected: EnumAssertion:gather:0.\n",
      "\u001b[32m[debug] \u001b[0m---> select(separate(gather(@param0, ['3', '4']), 0), ['0'])\n",
      "\u001b[32m[debug] \u001b[0mProposed: select(separate(gather(@param0, ['3', '4']), 0), ['0']).\n",
      "\u001b[32m[debug] \u001b[0mRejected: EnumAssertion:partial:step1.\n",
      "\u001b[32m[debug] \u001b[0m---> select(separate(gather(@param0, ['3', '5']), 0), ['0'])\n",
      "\u001b[32m[debug] \u001b[0mProposed: select(separate(gather(@param0, ['3', '5']), 0), ['0']).\n",
      "\u001b[32m[debug] \u001b[0mRejected: EnumAssertion:gather:0.\n",
      "\u001b[32m[debug] \u001b[0m---> select(separate(gather(@param0, ['3', '-99']), 0), ['0'])\n",
      "\u001b[32m[debug] \u001b[0mProposed: select(separate(gather(@param0, ['3', '-99']), 0), ['0']).\n",
      "\u001b[32m[debug] \u001b[0mRejected: EnumAssertion:gather:0.\n",
      "\u001b[32m[debug] \u001b[0m---> select(separate(gather(@param0, ['3', '-1']), 0), ['0'])\n",
      "\u001b[32m[debug] \u001b[0mProposed: select(separate(gather(@param0, ['3', '-1']), 0), ['0']).\n",
      "\u001b[32m[debug] \u001b[0mRejected: EnumAssertion:gather:0.\n",
      "\u001b[32m[debug] \u001b[0m---> select(separate(gather(@param0, ['3', '-2']), 0), ['0'])\n",
      "\u001b[32m[debug] \u001b[0mProposed: select(separate(gather(@param0, ['3', '-2']), 0), ['0']).\n"
     ]
    },
    {
     "name": "stdout",
     "output_type": "stream",
     "text": [
      "\n",
      "# best score is: 193, from: [193]\n",
      "# best score is: 194, from: [194]\n",
      "# best score is: 195, from: [195]\n",
      "# best score is: 196, from: [196]\n",
      "# best score is: 197, from: [197]\n",
      "# best score is: 198, from: [198]\n"
     ]
    },
    {
     "name": "stderr",
     "output_type": "stream",
     "text": [
      "\u001b[32m[debug] \u001b[0mRejected: EnumAssertion:gather:0.\n",
      "\u001b[32m[debug] \u001b[0m---> select(separate(gather(@param0, ['3', '-3']), 0), ['0'])\n",
      "\u001b[32m[debug] \u001b[0mProposed: select(separate(gather(@param0, ['3', '-3']), 0), ['0']).\n",
      "\u001b[32m[debug] \u001b[0mRejected: EnumAssertion:gather:0.\n",
      "\u001b[32m[debug] \u001b[0m---> select(separate(gather(@param0, ['3', '-4']), 0), ['0'])\n",
      "\u001b[32m[debug] \u001b[0mProposed: select(separate(gather(@param0, ['3', '-4']), 0), ['0']).\n",
      "\u001b[32m[debug] \u001b[0mRejected: EnumAssertion:gather:0.\n",
      "\u001b[32m[debug] \u001b[0m---> select(separate(gather(@param0, ['3', '-5']), 0), ['0'])\n",
      "\u001b[32m[debug] \u001b[0mProposed: select(separate(gather(@param0, ['3', '-5']), 0), ['0']).\n",
      "\u001b[32m[debug] \u001b[0mRejected: EnumAssertion:gather:0.\n",
      "\u001b[32m[debug] \u001b[0m---> select(separate(gather(@param0, ['4', '5']), 0), ['0'])\n",
      "\u001b[32m[debug] \u001b[0mProposed: select(separate(gather(@param0, ['4', '5']), 0), ['0']).\n",
      "\u001b[32m[debug] \u001b[0mRejected: EnumAssertion:gather:0.\n",
      "\u001b[32m[debug] \u001b[0m---> select(separate(gather(@param0, ['4', '-99']), 0), ['0'])\n",
      "\u001b[32m[debug] \u001b[0mProposed: select(separate(gather(@param0, ['4', '-99']), 0), ['0']).\n",
      "\u001b[32m[debug] \u001b[0mRejected: EnumAssertion:gather:0.\n",
      "\u001b[32m[debug] \u001b[0m---> select(separate(gather(@param0, ['4', '-1']), 0), ['0'])\n",
      "\u001b[32m[debug] \u001b[0mProposed: select(separate(gather(@param0, ['4', '-1']), 0), ['0']).\n",
      "\u001b[32m[debug] \u001b[0mRejected: EnumAssertion:gather:0.\n",
      "\u001b[32m[debug] \u001b[0m---> select(separate(gather(@param0, ['4', '-2']), 0), ['0'])\n",
      "\u001b[32m[debug] \u001b[0mProposed: select(separate(gather(@param0, ['4', '-2']), 0), ['0']).\n",
      "\u001b[32m[debug] \u001b[0mRejected: EnumAssertion:gather:0.\n",
      "\u001b[32m[debug] \u001b[0m---> select(separate(gather(@param0, ['4', '-3']), 0), ['0'])\n",
      "\u001b[32m[debug] \u001b[0mProposed: select(separate(gather(@param0, ['4', '-3']), 0), ['0']).\n"
     ]
    },
    {
     "name": "stdout",
     "output_type": "stream",
     "text": [
      "# best score is: 199, from: [199]\n",
      "# best score is: 200, from: [200]\n",
      "# best score is: 201, from: [201]\n",
      "# best score is: 202, from: [202]\n",
      "# best score is: 203, from: [203]\n",
      "# best score is: 204, from: [204]\n",
      "# best score is: 205, from: [205]\n",
      "# best score is: 206, from: [206]\n"
     ]
    },
    {
     "name": "stderr",
     "output_type": "stream",
     "text": [
      "\u001b[32m[debug] \u001b[0mRejected: EnumAssertion:gather:0.\n",
      "\u001b[32m[debug] \u001b[0m---> select(separate(gather(@param0, ['4', '-4']), 0), ['0'])\n",
      "\u001b[32m[debug] \u001b[0mProposed: select(separate(gather(@param0, ['4', '-4']), 0), ['0']).\n",
      "\u001b[32m[debug] \u001b[0mRejected: EnumAssertion:gather:0.\n",
      "\u001b[32m[debug] \u001b[0m---> select(separate(gather(@param0, ['4', '-5']), 0), ['0'])\n",
      "\u001b[32m[debug] \u001b[0mProposed: select(separate(gather(@param0, ['4', '-5']), 0), ['0']).\n",
      "\u001b[32m[debug] \u001b[0mRejected: EnumAssertion:gather:0.\n",
      "\u001b[32m[debug] \u001b[0m---> select(separate(gather(@param0, ['5', '-99']), 0), ['0'])\n",
      "\u001b[32m[debug] \u001b[0mProposed: select(separate(gather(@param0, ['5', '-99']), 0), ['0']).\n",
      "\u001b[32m[debug] \u001b[0mRejected: EnumAssertion:gather:0.\n",
      "\u001b[32m[debug] \u001b[0m---> select(separate(gather(@param0, ['5', '-1']), 0), ['0'])\n",
      "\u001b[32m[debug] \u001b[0mProposed: select(separate(gather(@param0, ['5', '-1']), 0), ['0']).\n",
      "\u001b[32m[debug] \u001b[0mRejected: EnumAssertion:gather:0.\n",
      "\u001b[32m[debug] \u001b[0m---> select(separate(gather(@param0, ['5', '-2']), 0), ['0'])\n",
      "\u001b[32m[debug] \u001b[0mProposed: select(separate(gather(@param0, ['5', '-2']), 0), ['0']).\n",
      "\u001b[32m[debug] \u001b[0mRejected: EnumAssertion:gather:0.\n",
      "\u001b[32m[debug] \u001b[0m---> select(separate(gather(@param0, ['5', '-3']), 0), ['0'])\n",
      "\u001b[32m[debug] \u001b[0mProposed: select(separate(gather(@param0, ['5', '-3']), 0), ['0']).\n",
      "\u001b[32m[debug] \u001b[0mRejected: EnumAssertion:gather:0.\n"
     ]
    },
    {
     "name": "stdout",
     "output_type": "stream",
     "text": [
      "# best score is: 207, from: [207]\n",
      "# best score is: 208, from: [208]\n",
      "# best score is: 209, from: [209]\n",
      "# best score is: 210, from: [210]\n",
      "# best score is: 211, from: [211]\n",
      "# best score is: 212, from: [212]\n",
      "# best score is: 213, from: [213]\n"
     ]
    },
    {
     "name": "stderr",
     "output_type": "stream",
     "text": [
      "\u001b[32m[debug] \u001b[0m---> select(separate(gather(@param0, ['5', '-4']), 0), ['0'])\n",
      "\u001b[32m[debug] \u001b[0mProposed: select(separate(gather(@param0, ['5', '-4']), 0), ['0']).\n",
      "\u001b[32m[debug] \u001b[0mRejected: EnumAssertion:gather:0.\n",
      "\u001b[32m[debug] \u001b[0m---> select(separate(gather(@param0, ['5', '-5']), 0), ['0'])\n",
      "\u001b[32m[debug] \u001b[0mProposed: select(separate(gather(@param0, ['5', '-5']), 0), ['0']).\n",
      "\u001b[32m[debug] \u001b[0mRejected: EnumAssertion:gather:0.\n",
      "\u001b[32m[debug] \u001b[0m---> select(separate(gather(@param0, ['-99', '-1']), 0), ['0'])\n",
      "\u001b[32m[debug] \u001b[0mProposed: select(separate(gather(@param0, ['-99', '-1']), 0), ['0']).\n",
      "\u001b[32m[debug] \u001b[0mRejected: EnumAssertion:separate:0.\n",
      "\u001b[32m[debug] \u001b[0m---> select(separate(gather(@param0, ['-99', '-2']), 0), ['0'])\n",
      "\u001b[32m[debug] \u001b[0mProposed: select(separate(gather(@param0, ['-99', '-2']), 0), ['0']).\n",
      "\u001b[32m[debug] \u001b[0mRejected: EnumAssertion:separate:0.\n",
      "\u001b[32m[debug] \u001b[0m---> select(separate(gather(@param0, ['-99', '-3']), 0), ['0'])\n",
      "\u001b[32m[debug] \u001b[0mProposed: select(separate(gather(@param0, ['-99', '-3']), 0), ['0']).\n",
      "\u001b[32m[debug] \u001b[0mRejected: EnumAssertion:separate:0.\n",
      "\u001b[32m[debug] \u001b[0m---> select(separate(gather(@param0, ['-99', '-4']), 0), ['0'])\n",
      "\u001b[32m[debug] \u001b[0mProposed: select(separate(gather(@param0, ['-99', '-4']), 0), ['0']).\n",
      "\u001b[32m[debug] \u001b[0mRejected: EnumAssertion:separate:0.\n"
     ]
    },
    {
     "name": "stdout",
     "output_type": "stream",
     "text": [
      "# best score is: 214, from: [214]\n",
      "# best score is: 215, from: [215]\n",
      "# best score is: 216, from: [216]\n",
      "# best score is: 217, from: [217]\n",
      "# best score is: 218, from: [218]\n",
      "# best score is: 219, from: [219]\n"
     ]
    },
    {
     "name": "stderr",
     "output_type": "stream",
     "text": [
      "\u001b[32m[debug] \u001b[0m---> select(separate(gather(@param0, ['-99', '-5']), 0), ['0'])\n",
      "\u001b[32m[debug] \u001b[0mProposed: select(separate(gather(@param0, ['-99', '-5']), 0), ['0']).\n",
      "\u001b[32m[debug] \u001b[0mRejected: EnumAssertion:gather:0.\n",
      "\u001b[32m[debug] \u001b[0m---> select(separate(gather(@param0, ['-1', '-2']), 0), ['0'])\n",
      "\u001b[32m[debug] \u001b[0mProposed: select(separate(gather(@param0, ['-1', '-2']), 0), ['0']).\n",
      "\u001b[32m[debug] \u001b[0mRejected: EnumAssertion:gather:0.\n",
      "\u001b[32m[debug] \u001b[0m---> select(separate(gather(@param0, ['-1', '-3']), 0), ['0'])\n",
      "\u001b[32m[debug] \u001b[0mProposed: select(separate(gather(@param0, ['-1', '-3']), 0), ['0']).\n",
      "\u001b[32m[debug] \u001b[0mRejected: EnumAssertion:gather:0.\n",
      "\u001b[32m[debug] \u001b[0m---> select(separate(gather(@param0, ['-1', '-4']), 0), ['0'])\n",
      "\u001b[32m[debug] \u001b[0mProposed: select(separate(gather(@param0, ['-1', '-4']), 0), ['0']).\n",
      "\u001b[32m[debug] \u001b[0mRejected: EnumAssertion:gather:0.\n",
      "\u001b[32m[debug] \u001b[0m---> select(separate(gather(@param0, ['-1', '-5']), 0), ['0'])\n",
      "\u001b[32m[debug] \u001b[0mProposed: select(separate(gather(@param0, ['-1', '-5']), 0), ['0']).\n",
      "\u001b[32m[debug] \u001b[0mRejected: EnumAssertion:gather:0.\n",
      "\u001b[32m[debug] \u001b[0m---> select(separate(gather(@param0, ['-2', '-3']), 0), ['0'])\n",
      "\u001b[32m[debug] \u001b[0mProposed: select(separate(gather(@param0, ['-2', '-3']), 0), ['0']).\n",
      "\u001b[32m[debug] \u001b[0mRejected: EnumAssertion:gather:0.\n",
      "\u001b[32m[debug] \u001b[0m---> select(separate(gather(@param0, ['-2', '-4']), 0), ['0'])\n",
      "\u001b[32m[debug] \u001b[0mProposed: select(separate(gather(@param0, ['-2', '-4']), 0), ['0']).\n",
      "\u001b[32m[debug] \u001b[0mRejected: EnumAssertion:gather:0.\n",
      "\u001b[32m[debug] \u001b[0m---> select(separate(gather(@param0, ['-2', '-5']), 0), ['0'])\n",
      "\u001b[32m[debug] \u001b[0mProposed: select(separate(gather(@param0, ['-2', '-5']), 0), ['0']).\n",
      "\u001b[32m[debug] \u001b[0mRejected: EnumAssertion:gather:0.\n",
      "\u001b[32m[debug] \u001b[0m---> select(separate(gather(@param0, ['-3', '-4']), 0), ['0'])\n"
     ]
    },
    {
     "name": "stdout",
     "output_type": "stream",
     "text": [
      "# best score is: 220, from: [220]\n",
      "# best score is: 221, from: [221]\n",
      "# best score is: 222, from: [222]\n",
      "# best score is: 223, from: [223]\n",
      "# best score is: 224, from: [224]\n",
      "# best score is: 225, from: [225]\n",
      "# best score is: 226, from: [226]\n",
      "# best score is: 227, from: [227]\n"
     ]
    },
    {
     "name": "stderr",
     "output_type": "stream",
     "text": [
      "\u001b[32m[debug] \u001b[0mProposed: select(separate(gather(@param0, ['-3', '-4']), 0), ['0']).\n",
      "\u001b[32m[debug] \u001b[0mRejected: EnumAssertion:gather:0.\n",
      "\u001b[32m[debug] \u001b[0m---> select(separate(gather(@param0, ['-3', '-5']), 0), ['0'])\n",
      "\u001b[32m[debug] \u001b[0mProposed: select(separate(gather(@param0, ['-3', '-5']), 0), ['0']).\n",
      "\u001b[32m[debug] \u001b[0mRejected: EnumAssertion:gather:0.\n",
      "\u001b[32m[debug] \u001b[0m---> select(separate(gather(@param0, ['-4', '-5']), 0), ['0'])\n",
      "\u001b[32m[debug] \u001b[0mProposed: select(separate(gather(@param0, ['-4', '-5']), 0), ['0']).\n",
      "\u001b[32m[debug] \u001b[0mRejected: EnumAssertion:gather:0.\n",
      "\u001b[32m[debug] \u001b[0m---> select(separate(gather(@param0, ['-4', '-5']), 1), ['0'])\n",
      "\u001b[32m[debug] \u001b[0mProposed: select(separate(gather(@param0, ['-4', '-5']), 1), ['0']).\n",
      "\u001b[32m[debug] \u001b[0mRejected: EnumAssertion:gather:0.\n",
      "\u001b[32m[debug] \u001b[0m---> select(separate(gather(@param0, ['-4', '-5']), 2), ['0'])\n",
      "\u001b[32m[debug] \u001b[0mProposed: select(separate(gather(@param0, ['-4', '-5']), 2), ['0']).\n",
      "\u001b[32m[debug] \u001b[0mRejected: EnumAssertion:gather:0.\n",
      "\u001b[32m[debug] \u001b[0m---> select(separate(gather(@param0, ['-4', '-5']), 3), ['0'])\n",
      "\u001b[32m[debug] \u001b[0mProposed: select(separate(gather(@param0, ['-4', '-5']), 3), ['0']).\n",
      "\u001b[32m[debug] \u001b[0mRejected: EnumAssertion:gather:0.\n",
      "\u001b[32m[debug] \u001b[0m---> select(separate(gather(@param0, ['-4', '-5']), 4), ['0'])\n",
      "\u001b[32m[debug] \u001b[0mProposed: select(separate(gather(@param0, ['-4', '-5']), 4), ['0']).\n",
      "\u001b[32m[debug] \u001b[0mRejected: EnumAssertion:gather:0.\n"
     ]
    },
    {
     "name": "stdout",
     "output_type": "stream",
     "text": [
      "# best score is: 228, from: [228]\n",
      "# best score is: 229, from: [229]\n",
      "# best score is: 230, from: [230]\n",
      "# best score is: 231, from: [231]\n",
      "# best score is: 232, from: [232]\n",
      "# best score is: 233, from: [233]\n"
     ]
    },
    {
     "name": "stderr",
     "output_type": "stream",
     "text": [
      "\u001b[32m[debug] \u001b[0m---> select(separate(gather(@param0, ['-4', '-5']), 5), ['0'])\n",
      "\u001b[32m[debug] \u001b[0mProposed: select(separate(gather(@param0, ['-4', '-5']), 5), ['0']).\n",
      "\u001b[32m[debug] \u001b[0mRejected: EnumAssertion:gather:0.\n",
      "\u001b[32m[debug] \u001b[0m---> select(separate(gather(@param0, ['-4', '-5']), 5), ['1'])\n",
      "\u001b[32m[debug] \u001b[0mProposed: select(separate(gather(@param0, ['-4', '-5']), 5), ['1']).\n",
      "\u001b[32m[debug] \u001b[0mRejected: EnumAssertion:gather:0.\n",
      "\u001b[32m[debug] \u001b[0m---> select(separate(gather(@param0, ['-4', '-5']), 5), ['2'])\n",
      "\u001b[32m[debug] \u001b[0mProposed: select(separate(gather(@param0, ['-4', '-5']), 5), ['2']).\n",
      "\u001b[32m[debug] \u001b[0mRejected: EnumAssertion:gather:0.\n",
      "\u001b[32m[debug] \u001b[0m---> select(separate(gather(@param0, ['-4', '-5']), 5), ['3'])\n",
      "\u001b[32m[debug] \u001b[0mProposed: select(separate(gather(@param0, ['-4', '-5']), 5), ['3']).\n",
      "\u001b[32m[debug] \u001b[0mRejected: EnumAssertion:gather:0.\n",
      "\u001b[32m[debug] \u001b[0m---> select(separate(gather(@param0, ['-4', '-5']), 5), ['4'])\n",
      "\u001b[32m[debug] \u001b[0mProposed: select(separate(gather(@param0, ['-4', '-5']), 5), ['4']).\n",
      "\u001b[32m[debug] \u001b[0mRejected: EnumAssertion:gather:0.\n",
      "\u001b[32m[debug] \u001b[0m---> select(separate(gather(@param0, ['-4', '-5']), 5), ['5'])\n",
      "\u001b[32m[debug] \u001b[0mProposed: select(separate(gather(@param0, ['-4', '-5']), 5), ['5']).\n",
      "\u001b[32m[debug] \u001b[0mRejected: EnumAssertion:gather:0.\n",
      "\u001b[32m[debug] \u001b[0m---> select(separate(gather(@param0, ['-4', '-5']), 5), ['-99'])\n",
      "\u001b[32m[debug] \u001b[0mProposed: select(separate(gather(@param0, ['-4', '-5']), 5), ['-99']).\n",
      "\u001b[32m[debug] \u001b[0mRejected: EnumAssertion:gather:0.\n",
      "\u001b[32m[debug] \u001b[0m---> select(separate(gather(@param0, ['-4', '-5']), 5), ['-1'])\n",
      "\u001b[32m[debug] \u001b[0mProposed: select(separate(gather(@param0, ['-4', '-5']), 5), ['-1']).\n",
      "\u001b[32m[debug] \u001b[0mRejected: EnumAssertion:gather:0.\n",
      "\u001b[32m[debug] \u001b[0m---> select(separate(gather(@param0, ['-4', '-5']), 5), ['-2'])\n"
     ]
    },
    {
     "name": "stdout",
     "output_type": "stream",
     "text": [
      "# best score is: 234, from: [234]\n",
      "# best score is: 235, from: [235]\n",
      "# best score is: 236, from: [236]\n",
      "# best score is: 237, from: [237]\n",
      "# best score is: 238, from: [238]\n",
      "# best score is: 239, from: [239]\n",
      "# best score is: 240, from: [240]\n",
      "# best score is: 241, from: [241]\n",
      "# best score is: 242, from: [242]\n"
     ]
    },
    {
     "name": "stderr",
     "output_type": "stream",
     "text": [
      "\u001b[32m[debug] \u001b[0mProposed: select(separate(gather(@param0, ['-4', '-5']), 5), ['-2']).\n",
      "\u001b[32m[debug] \u001b[0mRejected: EnumAssertion:gather:0.\n",
      "\u001b[32m[debug] \u001b[0m---> select(separate(gather(@param0, ['-4', '-5']), 5), ['-3'])\n",
      "\u001b[32m[debug] \u001b[0mProposed: select(separate(gather(@param0, ['-4', '-5']), 5), ['-3']).\n",
      "\u001b[32m[debug] \u001b[0mRejected: EnumAssertion:gather:0.\n",
      "\u001b[32m[debug] \u001b[0m---> select(separate(gather(@param0, ['-4', '-5']), 5), ['-4'])\n",
      "\u001b[32m[debug] \u001b[0mProposed: select(separate(gather(@param0, ['-4', '-5']), 5), ['-4']).\n",
      "\u001b[32m[debug] \u001b[0mRejected: EnumAssertion:gather:0.\n",
      "\u001b[32m[debug] \u001b[0m---> select(separate(gather(@param0, ['-4', '-5']), 5), ['-5'])\n",
      "\u001b[32m[debug] \u001b[0mProposed: select(separate(gather(@param0, ['-4', '-5']), 5), ['-5']).\n",
      "\u001b[32m[debug] \u001b[0mRejected: EnumAssertion:gather:0.\n",
      "\u001b[32m[debug] \u001b[0m---> select(separate(gather(@param0, ['-4', '-5']), 5), ['0', '1'])\n",
      "\u001b[32m[debug] \u001b[0mProposed: select(separate(gather(@param0, ['-4', '-5']), 5), ['0', '1']).\n",
      "\u001b[32m[debug] \u001b[0mRejected: EnumAssertion:gather:0.\n",
      "\u001b[32m[debug] \u001b[0m---> select(separate(gather(@param0, ['-4', '-5']), 5), ['0', '2'])\n",
      "\u001b[32m[debug] \u001b[0mProposed: select(separate(gather(@param0, ['-4', '-5']), 5), ['0', '2']).\n",
      "\u001b[32m[debug] \u001b[0mRejected: EnumAssertion:gather:0.\n",
      "\u001b[32m[debug] \u001b[0m---> select(separate(gather(@param0, ['-4', '-5']), 5), ['0', '3'])\n",
      "\u001b[32m[debug] \u001b[0mProposed: select(separate(gather(@param0, ['-4', '-5']), 5), ['0', '3']).\n",
      "\u001b[32m[debug] \u001b[0mRejected: EnumAssertion:gather:0.\n",
      "\u001b[32m[debug] \u001b[0m---> select(separate(gather(@param0, ['-4', '-5']), 5), ['0', '4'])\n",
      "\u001b[32m[debug] \u001b[0mProposed: select(separate(gather(@param0, ['-4', '-5']), 5), ['0', '4']).\n",
      "\u001b[32m[debug] \u001b[0mRejected: EnumAssertion:gather:0.\n",
      "\u001b[32m[debug] \u001b[0m---> select(separate(gather(@param0, ['-4', '-5']), 5), ['0', '5'])\n",
      "\u001b[32m[debug] \u001b[0mProposed: select(separate(gather(@param0, ['-4', '-5']), 5), ['0', '5']).\n",
      "\u001b[32m[debug] \u001b[0mRejected: EnumAssertion:gather:0.\n",
      "\u001b[32m[debug] \u001b[0m---> select(separate(gather(@param0, ['-4', '-5']), 5), ['0', '-99'])\n",
      "\u001b[32m[debug] \u001b[0mProposed: select(separate(gather(@param0, ['-4', '-5']), 5), ['0', '-99']).\n"
     ]
    },
    {
     "name": "stdout",
     "output_type": "stream",
     "text": [
      "# best score is: 243, from: [243]\n",
      "# best score is: 244, from: [244]\n",
      "# best score is: 245, from: [245]\n",
      "# best score is: 246, from: [246]\n",
      "# best score is: 247, from: [247]\n",
      "# best score is: 248, from: [248]\n",
      "# best score is: 249, from: [249]\n",
      "# best score is: 250, from: [250]\n",
      "# best score is: 251, from: [251]\n"
     ]
    },
    {
     "name": "stderr",
     "output_type": "stream",
     "text": [
      "\u001b[32m[debug] \u001b[0mRejected: EnumAssertion:gather:0.\n",
      "\u001b[32m[debug] \u001b[0m---> select(separate(gather(@param0, ['-4', '-5']), 5), ['0', '-1'])\n",
      "\u001b[32m[debug] \u001b[0mProposed: select(separate(gather(@param0, ['-4', '-5']), 5), ['0', '-1']).\n",
      "\u001b[32m[debug] \u001b[0mRejected: EnumAssertion:gather:0.\n",
      "\u001b[32m[debug] \u001b[0m---> select(separate(gather(@param0, ['-4', '-5']), 5), ['0', '-2'])\n",
      "\u001b[32m[debug] \u001b[0mProposed: select(separate(gather(@param0, ['-4', '-5']), 5), ['0', '-2']).\n",
      "\u001b[32m[debug] \u001b[0mRejected: EnumAssertion:gather:0.\n",
      "\u001b[32m[debug] \u001b[0m---> select(separate(gather(@param0, ['-4', '-5']), 5), ['0', '-3'])\n",
      "\u001b[32m[debug] \u001b[0mProposed: select(separate(gather(@param0, ['-4', '-5']), 5), ['0', '-3']).\n",
      "\u001b[32m[debug] \u001b[0mRejected: EnumAssertion:gather:0.\n",
      "\u001b[32m[debug] \u001b[0m---> select(separate(gather(@param0, ['-4', '-5']), 5), ['0', '-4'])\n",
      "\u001b[32m[debug] \u001b[0mProposed: select(separate(gather(@param0, ['-4', '-5']), 5), ['0', '-4']).\n",
      "\u001b[32m[debug] \u001b[0mRejected: EnumAssertion:gather:0.\n",
      "\u001b[32m[debug] \u001b[0m---> select(separate(gather(@param0, ['-4', '-5']), 5), ['0', '-5'])\n",
      "\u001b[32m[debug] \u001b[0mProposed: select(separate(gather(@param0, ['-4', '-5']), 5), ['0', '-5']).\n",
      "\u001b[32m[debug] \u001b[0mRejected: EnumAssertion:gather:0.\n",
      "\u001b[32m[debug] \u001b[0m---> select(separate(gather(@param0, ['-4', '-5']), 5), ['1', '2'])\n",
      "\u001b[32m[debug] \u001b[0mProposed: select(separate(gather(@param0, ['-4', '-5']), 5), ['1', '2']).\n",
      "\u001b[32m[debug] \u001b[0mRejected: EnumAssertion:gather:0.\n",
      "\u001b[32m[debug] \u001b[0m---> select(separate(gather(@param0, ['-4', '-5']), 5), ['1', '3'])\n",
      "\u001b[32m[debug] \u001b[0mProposed: select(separate(gather(@param0, ['-4', '-5']), 5), ['1', '3']).\n",
      "\u001b[32m[debug] \u001b[0mRejected: EnumAssertion:gather:0.\n",
      "\u001b[32m[debug] \u001b[0m---> select(separate(gather(@param0, ['-4', '-5']), 5), ['1', '4'])\n",
      "\u001b[32m[debug] \u001b[0mProposed: select(separate(gather(@param0, ['-4', '-5']), 5), ['1', '4']).\n",
      "\u001b[32m[debug] \u001b[0mRejected: EnumAssertion:gather:0.\n"
     ]
    },
    {
     "name": "stdout",
     "output_type": "stream",
     "text": [
      "# best score is: 252, from: [252]\n",
      "# best score is: 253, from: [253]\n",
      "# best score is: 254, from: [254]\n",
      "# best score is: 255, from: [255]\n",
      "# best score is: 256, from: [256]\n",
      "# best score is: 257, from: [257]\n",
      "# best score is: 258, from: [258]\n",
      "# best score is: 259, from: [259]\n",
      "# best score is: 260, from: [260]"
     ]
    },
    {
     "name": "stderr",
     "output_type": "stream",
     "text": [
      "\u001b[32m[debug] \u001b[0m---> select(separate(gather(@param0, ['-4', '-5']), 5), ['1', '5'])\n",
      "\u001b[32m[debug] \u001b[0mProposed: select(separate(gather(@param0, ['-4', '-5']), 5), ['1', '5']).\n",
      "\u001b[32m[debug] \u001b[0mRejected: EnumAssertion:gather:0.\n",
      "\u001b[32m[debug] \u001b[0m---> select(separate(gather(@param0, ['-4', '-5']), 5), ['1', '-99'])\n",
      "\u001b[32m[debug] \u001b[0mProposed: select(separate(gather(@param0, ['-4', '-5']), 5), ['1', '-99']).\n",
      "\u001b[32m[debug] \u001b[0mRejected: EnumAssertion:gather:0.\n",
      "\u001b[32m[debug] \u001b[0m---> select(separate(gather(@param0, ['-4', '-5']), 5), ['1', '-1'])\n",
      "\u001b[32m[debug] \u001b[0mProposed: select(separate(gather(@param0, ['-4', '-5']), 5), ['1', '-1']).\n",
      "\u001b[32m[debug] \u001b[0mRejected: EnumAssertion:gather:0.\n",
      "\u001b[32m[debug] \u001b[0m---> select(separate(gather(@param0, ['-4', '-5']), 5), ['1', '-2'])\n",
      "\u001b[32m[debug] \u001b[0mProposed: select(separate(gather(@param0, ['-4', '-5']), 5), ['1', '-2']).\n",
      "\u001b[32m[debug] \u001b[0mRejected: EnumAssertion:gather:0.\n",
      "\u001b[32m[debug] \u001b[0m---> select(separate(gather(@param0, ['-4', '-5']), 5), ['1', '-3'])\n",
      "\u001b[32m[debug] \u001b[0mProposed: select(separate(gather(@param0, ['-4', '-5']), 5), ['1', '-3']).\n",
      "\u001b[32m[debug] \u001b[0mRejected: EnumAssertion:gather:0.\n",
      "\u001b[32m[debug] \u001b[0m---> select(separate(gather(@param0, ['-4', '-5']), 5), ['1', '-4'])\n",
      "\u001b[32m[debug] \u001b[0mProposed: select(separate(gather(@param0, ['-4', '-5']), 5), ['1', '-4']).\n",
      "\u001b[32m[debug] \u001b[0mRejected: EnumAssertion:gather:0.\n",
      "\u001b[32m[debug] \u001b[0m---> select(separate(gather(@param0, ['-4', '-5']), 5), ['1', '-5'])\n"
     ]
    },
    {
     "name": "stdout",
     "output_type": "stream",
     "text": [
      "\n",
      "# best score is: 261, from: [261]\n",
      "# best score is: 262, from: [262]\n",
      "# best score is: 263, from: [263]\n",
      "# best score is: 264, from: [264]\n",
      "# best score is: 265, from: [265]\n",
      "# best score is: 266, from: [266]\n"
     ]
    },
    {
     "name": "stderr",
     "output_type": "stream",
     "text": [
      "\u001b[32m[debug] \u001b[0mProposed: select(separate(gather(@param0, ['-4', '-5']), 5), ['1', '-5']).\n",
      "\u001b[32m[debug] \u001b[0mRejected: EnumAssertion:gather:0.\n",
      "\u001b[32m[debug] \u001b[0m---> select(separate(gather(@param0, ['-4', '-5']), 5), ['2', '3'])\n",
      "\u001b[32m[debug] \u001b[0mProposed: select(separate(gather(@param0, ['-4', '-5']), 5), ['2', '3']).\n",
      "\u001b[32m[debug] \u001b[0mRejected: EnumAssertion:gather:0.\n",
      "\u001b[32m[debug] \u001b[0m---> select(separate(gather(@param0, ['-4', '-5']), 5), ['2', '4'])\n",
      "\u001b[32m[debug] \u001b[0mProposed: select(separate(gather(@param0, ['-4', '-5']), 5), ['2', '4']).\n",
      "\u001b[32m[debug] \u001b[0mRejected: EnumAssertion:gather:0.\n",
      "\u001b[32m[debug] \u001b[0m---> select(separate(gather(@param0, ['-4', '-5']), 5), ['2', '5'])\n",
      "\u001b[32m[debug] \u001b[0mProposed: select(separate(gather(@param0, ['-4', '-5']), 5), ['2', '5']).\n",
      "\u001b[32m[debug] \u001b[0mRejected: EnumAssertion:gather:0.\n",
      "\u001b[32m[debug] \u001b[0m---> select(separate(gather(@param0, ['-4', '-5']), 5), ['2', '-99'])\n",
      "\u001b[32m[debug] \u001b[0mProposed: select(separate(gather(@param0, ['-4', '-5']), 5), ['2', '-99']).\n",
      "\u001b[32m[debug] \u001b[0mRejected: EnumAssertion:gather:0.\n",
      "\u001b[32m[debug] \u001b[0m---> select(separate(gather(@param0, ['-4', '-5']), 5), ['2', '-1'])\n",
      "\u001b[32m[debug] \u001b[0mProposed: select(separate(gather(@param0, ['-4', '-5']), 5), ['2', '-1']).\n",
      "\u001b[32m[debug] \u001b[0mRejected: EnumAssertion:gather:0.\n",
      "\u001b[32m[debug] \u001b[0m---> select(separate(gather(@param0, ['-4', '-5']), 5), ['2', '-2'])\n",
      "\u001b[32m[debug] \u001b[0mProposed: select(separate(gather(@param0, ['-4', '-5']), 5), ['2', '-2']).\n",
      "\u001b[32m[debug] \u001b[0mRejected: EnumAssertion:gather:0.\n",
      "\u001b[32m[debug] \u001b[0m---> select(separate(gather(@param0, ['-4', '-5']), 5), ['2', '-3'])\n",
      "\u001b[32m[debug] \u001b[0mProposed: select(separate(gather(@param0, ['-4', '-5']), 5), ['2', '-3']).\n",
      "\u001b[32m[debug] \u001b[0mRejected: EnumAssertion:gather:0.\n",
      "\u001b[32m[debug] \u001b[0m---> select(separate(gather(@param0, ['-4', '-5']), 5), ['2', '-4'])\n",
      "\u001b[32m[debug] \u001b[0mProposed: select(separate(gather(@param0, ['-4', '-5']), 5), ['2', '-4']).\n",
      "\u001b[32m[debug] \u001b[0mRejected: EnumAssertion:gather:0.\n",
      "\u001b[32m[debug] \u001b[0m---> select(separate(gather(@param0, ['-4', '-5']), 5), ['2', '-5'])\n",
      "\u001b[32m[debug] \u001b[0mProposed: select(separate(gather(@param0, ['-4', '-5']), 5), ['2', '-5']).\n",
      "\u001b[32m[debug] \u001b[0mRejected: EnumAssertion:gather:0.\n",
      "\u001b[32m[debug] \u001b[0m---> select(separate(gather(@param0, ['-4', '-5']), 5), ['3', '4'])\n",
      "\u001b[32m[debug] \u001b[0mProposed: select(separate(gather(@param0, ['-4', '-5']), 5), ['3', '4']).\n"
     ]
    },
    {
     "name": "stdout",
     "output_type": "stream",
     "text": [
      "# best score is: 267, from: [267]\n",
      "# best score is: 268, from: [268]\n",
      "# best score is: 269, from: [269]\n",
      "# best score is: 270, from: [270]\n",
      "# best score is: 271, from: [271]\n",
      "# best score is: 272, from: [272]\n",
      "# best score is: 273, from: [273]\n",
      "# best score is: 274, from: [274]\n",
      "# best score is: 275, from: [275]\n",
      "# best score is: 276, from: [276]\n"
     ]
    },
    {
     "name": "stderr",
     "output_type": "stream",
     "text": [
      "\u001b[32m[debug] \u001b[0mRejected: EnumAssertion:gather:0.\n",
      "\u001b[32m[debug] \u001b[0m---> select(separate(gather(@param0, ['-4', '-5']), 5), ['3', '5'])\n",
      "\u001b[32m[debug] \u001b[0mProposed: select(separate(gather(@param0, ['-4', '-5']), 5), ['3', '5']).\n",
      "\u001b[32m[debug] \u001b[0mRejected: EnumAssertion:gather:0.\n",
      "\u001b[32m[debug] \u001b[0m---> select(separate(gather(@param0, ['-4', '-5']), 5), ['3', '-99'])\n",
      "\u001b[32m[debug] \u001b[0mProposed: select(separate(gather(@param0, ['-4', '-5']), 5), ['3', '-99']).\n",
      "\u001b[32m[debug] \u001b[0mRejected: EnumAssertion:gather:0.\n",
      "\u001b[32m[debug] \u001b[0m---> select(separate(gather(@param0, ['-4', '-5']), 5), ['3', '-1'])\n",
      "\u001b[32m[debug] \u001b[0mProposed: select(separate(gather(@param0, ['-4', '-5']), 5), ['3', '-1']).\n",
      "\u001b[32m[debug] \u001b[0mRejected: EnumAssertion:gather:0.\n",
      "\u001b[32m[debug] \u001b[0m---> select(separate(gather(@param0, ['-4', '-5']), 5), ['3', '-2'])\n",
      "\u001b[32m[debug] \u001b[0mProposed: select(separate(gather(@param0, ['-4', '-5']), 5), ['3', '-2']).\n",
      "\u001b[32m[debug] \u001b[0mRejected: EnumAssertion:gather:0.\n",
      "\u001b[32m[debug] \u001b[0m---> select(separate(gather(@param0, ['-4', '-5']), 5), ['3', '-3'])\n",
      "\u001b[32m[debug] \u001b[0mProposed: select(separate(gather(@param0, ['-4', '-5']), 5), ['3', '-3']).\n",
      "\u001b[32m[debug] \u001b[0mRejected: EnumAssertion:gather:0.\n",
      "\u001b[32m[debug] \u001b[0m---> select(separate(gather(@param0, ['-4', '-5']), 5), ['3', '-4'])\n",
      "\u001b[32m[debug] \u001b[0mProposed: select(separate(gather(@param0, ['-4', '-5']), 5), ['3', '-4']).\n",
      "\u001b[32m[debug] \u001b[0mRejected: EnumAssertion:gather:0.\n",
      "\u001b[32m[debug] \u001b[0m---> select(separate(gather(@param0, ['-4', '-5']), 5), ['3', '-5'])\n",
      "\u001b[32m[debug] \u001b[0mProposed: select(separate(gather(@param0, ['-4', '-5']), 5), ['3', '-5']).\n",
      "\u001b[32m[debug] \u001b[0mRejected: EnumAssertion:gather:0.\n"
     ]
    },
    {
     "name": "stdout",
     "output_type": "stream",
     "text": [
      "# best score is: 277, from: [277]\n",
      "# best score is: 278, from: [278]\n",
      "# best score is: 279, from: [279]\n",
      "# best score is: 280, from: [280]\n",
      "# best score is: 281, from: [281]\n",
      "# best score is: 282, from: [282]\n",
      "# best score is: 283, from: [283]\n"
     ]
    },
    {
     "name": "stderr",
     "output_type": "stream",
     "text": [
      "\u001b[32m[debug] \u001b[0m---> select(separate(gather(@param0, ['-4', '-5']), 5), ['4', '5'])\n",
      "\u001b[32m[debug] \u001b[0mProposed: select(separate(gather(@param0, ['-4', '-5']), 5), ['4', '5']).\n",
      "\u001b[32m[debug] \u001b[0mRejected: EnumAssertion:gather:0.\n",
      "\u001b[32m[debug] \u001b[0m---> select(separate(gather(@param0, ['-4', '-5']), 5), ['4', '-99'])\n",
      "\u001b[32m[debug] \u001b[0mProposed: select(separate(gather(@param0, ['-4', '-5']), 5), ['4', '-99']).\n",
      "\u001b[32m[debug] \u001b[0mRejected: EnumAssertion:gather:0.\n",
      "\u001b[32m[debug] \u001b[0m---> select(separate(gather(@param0, ['-4', '-5']), 5), ['4', '-1'])\n",
      "\u001b[32m[debug] \u001b[0mProposed: select(separate(gather(@param0, ['-4', '-5']), 5), ['4', '-1']).\n",
      "\u001b[32m[debug] \u001b[0mRejected: EnumAssertion:gather:0.\n",
      "\u001b[32m[debug] \u001b[0m---> select(separate(gather(@param0, ['-4', '-5']), 5), ['4', '-2'])\n",
      "\u001b[32m[debug] \u001b[0mProposed: select(separate(gather(@param0, ['-4', '-5']), 5), ['4', '-2']).\n",
      "\u001b[32m[debug] \u001b[0mRejected: EnumAssertion:gather:0.\n",
      "\u001b[32m[debug] \u001b[0m---> select(separate(gather(@param0, ['-4', '-5']), 5), ['4', '-3'])\n",
      "\u001b[32m[debug] \u001b[0mProposed: select(separate(gather(@param0, ['-4', '-5']), 5), ['4', '-3']).\n",
      "\u001b[32m[debug] \u001b[0mRejected: EnumAssertion:gather:0.\n",
      "\u001b[32m[debug] \u001b[0m---> select(separate(gather(@param0, ['-4', '-5']), 5), ['4', '-4'])\n",
      "\u001b[32m[debug] \u001b[0mProposed: select(separate(gather(@param0, ['-4', '-5']), 5), ['4', '-4']).\n",
      "\u001b[32m[debug] \u001b[0mRejected: EnumAssertion:gather:0.\n",
      "\u001b[32m[debug] \u001b[0m---> select(separate(gather(@param0, ['-4', '-5']), 5), ['4', '-5'])\n",
      "\u001b[32m[debug] \u001b[0mProposed: select(separate(gather(@param0, ['-4', '-5']), 5), ['4', '-5']).\n",
      "\u001b[32m[debug] \u001b[0mRejected: EnumAssertion:gather:0.\n",
      "\u001b[32m[debug] \u001b[0m---> select(separate(gather(@param0, ['-4', '-5']), 5), ['5', '-99'])\n",
      "\u001b[32m[debug] \u001b[0mProposed: select(separate(gather(@param0, ['-4', '-5']), 5), ['5', '-99']).\n",
      "\u001b[32m[debug] \u001b[0mRejected: EnumAssertion:gather:0.\n",
      "\u001b[32m[debug] \u001b[0m---> select(separate(gather(@param0, ['-4', '-5']), 5), ['5', '-1'])\n",
      "\u001b[32m[debug] \u001b[0mProposed: select(separate(gather(@param0, ['-4', '-5']), 5), ['5', '-1']).\n",
      "\u001b[32m[debug] \u001b[0mRejected: EnumAssertion:gather:0.\n"
     ]
    },
    {
     "name": "stdout",
     "output_type": "stream",
     "text": [
      "# best score is: 284, from: [284]\n",
      "# best score is: 285, from: [285]\n",
      "# best score is: 286, from: [286]\n",
      "# best score is: 287, from: [287]\n",
      "# best score is: 288, from: [288]\n",
      "# best score is: 289, from: [289]\n",
      "# best score is: 290, from: [290]\n",
      "# best score is: 291, from: [291]\n",
      "# best score is: 292, from: [292]\n"
     ]
    },
    {
     "name": "stderr",
     "output_type": "stream",
     "text": [
      "\u001b[32m[debug] \u001b[0m---> select(separate(gather(@param0, ['-4', '-5']), 5), ['5', '-2'])\n",
      "\u001b[32m[debug] \u001b[0mProposed: select(separate(gather(@param0, ['-4', '-5']), 5), ['5', '-2']).\n",
      "\u001b[32m[debug] \u001b[0mRejected: EnumAssertion:gather:0.\n",
      "\u001b[32m[debug] \u001b[0m---> select(separate(gather(@param0, ['-4', '-5']), 5), ['5', '-3'])\n",
      "\u001b[32m[debug] \u001b[0mProposed: select(separate(gather(@param0, ['-4', '-5']), 5), ['5', '-3']).\n",
      "\u001b[32m[debug] \u001b[0mRejected: EnumAssertion:gather:0.\n",
      "\u001b[32m[debug] \u001b[0m---> select(separate(gather(@param0, ['-4', '-5']), 5), ['5', '-4'])\n",
      "\u001b[32m[debug] \u001b[0mProposed: select(separate(gather(@param0, ['-4', '-5']), 5), ['5', '-4']).\n",
      "\u001b[32m[debug] \u001b[0mRejected: EnumAssertion:gather:0.\n",
      "\u001b[32m[debug] \u001b[0m---> select(separate(gather(@param0, ['-4', '-5']), 5), ['5', '-5'])\n",
      "\u001b[32m[debug] \u001b[0mProposed: select(separate(gather(@param0, ['-4', '-5']), 5), ['5', '-5']).\n",
      "\u001b[32m[debug] \u001b[0mRejected: EnumAssertion:gather:0.\n",
      "\u001b[32m[debug] \u001b[0m---> select(separate(gather(@param0, ['-4', '-5']), 5), ['-99', '-1'])\n",
      "\u001b[32m[debug] \u001b[0mProposed: select(separate(gather(@param0, ['-4', '-5']), 5), ['-99', '-1']).\n",
      "\u001b[32m[debug] \u001b[0mRejected: EnumAssertion:gather:0.\n",
      "\u001b[32m[debug] \u001b[0m---> select(separate(gather(@param0, ['-4', '-5']), 5), ['-99', '-2'])\n",
      "\u001b[32m[debug] \u001b[0mProposed: select(separate(gather(@param0, ['-4', '-5']), 5), ['-99', '-2']).\n",
      "\u001b[32m[debug] \u001b[0mRejected: EnumAssertion:gather:0.\n",
      "\u001b[32m[debug] \u001b[0m---> select(separate(gather(@param0, ['-4', '-5']), 5), ['-99', '-3'])\n",
      "\u001b[32m[debug] \u001b[0mProposed: select(separate(gather(@param0, ['-4', '-5']), 5), ['-99', '-3']).\n",
      "\u001b[32m[debug] \u001b[0mRejected: EnumAssertion:gather:0.\n",
      "\u001b[32m[debug] \u001b[0m---> select(separate(gather(@param0, ['-4', '-5']), 5), ['-99', '-4'])\n",
      "\u001b[32m[debug] \u001b[0mProposed: select(separate(gather(@param0, ['-4', '-5']), 5), ['-99', '-4']).\n",
      "\u001b[32m[debug] \u001b[0mRejected: EnumAssertion:gather:0.\n",
      "\u001b[32m[debug] \u001b[0m---> select(separate(gather(@param0, ['-4', '-5']), 5), ['-99', '-5'])\n",
      "\u001b[32m[debug] \u001b[0mProposed: select(separate(gather(@param0, ['-4', '-5']), 5), ['-99', '-5']).\n",
      "\u001b[32m[debug] \u001b[0mRejected: EnumAssertion:gather:0.\n",
      "\u001b[32m[debug] \u001b[0m---> select(separate(gather(@param0, ['-4', '-5']), 5), ['-1', '-2'])\n",
      "\u001b[32m[debug] \u001b[0mProposed: select(separate(gather(@param0, ['-4', '-5']), 5), ['-1', '-2']).\n",
      "\u001b[32m[debug] \u001b[0mRejected: EnumAssertion:gather:0.\n"
     ]
    },
    {
     "name": "stdout",
     "output_type": "stream",
     "text": [
      "# best score is: 293, from: [293]\n",
      "# best score is: 294, from: [294]\n",
      "# best score is: 295, from: [295]\n",
      "# best score is: 296, from: [296]\n",
      "# best score is: 297, from: [297]\n",
      "# best score is: 298, from: [298]\n",
      "# best score is: 299, from: [299]\n",
      "# best score is: 300, from: [300]\n",
      "# best score is: 301, from: [301]\n",
      "# best score is: 302, from: [302]\n",
      "# best score is: 303, from: [303]"
     ]
    },
    {
     "name": "stderr",
     "output_type": "stream",
     "text": [
      "\u001b[32m[debug] \u001b[0m---> select(separate(gather(@param0, ['-4', '-5']), 5), ['-1', '-3'])\n",
      "\u001b[32m[debug] \u001b[0mProposed: select(separate(gather(@param0, ['-4', '-5']), 5), ['-1', '-3']).\n",
      "\u001b[32m[debug] \u001b[0mRejected: EnumAssertion:gather:0.\n",
      "\u001b[32m[debug] \u001b[0m---> select(separate(gather(@param0, ['-4', '-5']), 5), ['-1', '-4'])\n",
      "\u001b[32m[debug] \u001b[0mProposed: select(separate(gather(@param0, ['-4', '-5']), 5), ['-1', '-4']).\n",
      "\u001b[32m[debug] \u001b[0mRejected: EnumAssertion:gather:0.\n",
      "\u001b[32m[debug] \u001b[0m---> select(separate(gather(@param0, ['-4', '-5']), 5), ['-1', '-5'])\n",
      "\u001b[32m[debug] \u001b[0mProposed: select(separate(gather(@param0, ['-4', '-5']), 5), ['-1', '-5']).\n",
      "\u001b[32m[debug] \u001b[0mRejected: EnumAssertion:gather:0.\n",
      "\u001b[32m[debug] \u001b[0m---> select(separate(gather(@param0, ['-4', '-5']), 5), ['-2', '-3'])\n",
      "\u001b[32m[debug] \u001b[0mProposed: select(separate(gather(@param0, ['-4', '-5']), 5), ['-2', '-3']).\n",
      "\u001b[32m[debug] \u001b[0mRejected: EnumAssertion:gather:0.\n",
      "\u001b[32m[debug] \u001b[0m---> select(separate(gather(@param0, ['-4', '-5']), 5), ['-2', '-4'])\n",
      "\u001b[32m[debug] \u001b[0mProposed: select(separate(gather(@param0, ['-4', '-5']), 5), ['-2', '-4']).\n",
      "\u001b[32m[debug] \u001b[0mRejected: EnumAssertion:gather:0.\n",
      "\u001b[32m[debug] \u001b[0m---> select(separate(gather(@param0, ['-4', '-5']), 5), ['-2', '-5'])\n",
      "\u001b[32m[debug] \u001b[0mProposed: select(separate(gather(@param0, ['-4', '-5']), 5), ['-2', '-5']).\n",
      "\u001b[32m[debug] \u001b[0mRejected: EnumAssertion:gather:0.\n",
      "\u001b[32m[debug] \u001b[0m---> select(separate(gather(@param0, ['-4', '-5']), 5), ['-3', '-4'])\n",
      "\u001b[32m[debug] \u001b[0mProposed: select(separate(gather(@param0, ['-4', '-5']), 5), ['-3', '-4']).\n",
      "\u001b[32m[debug] \u001b[0mRejected: EnumAssertion:gather:0.\n",
      "\u001b[32m[debug] \u001b[0m---> select(separate(gather(@param0, ['-4', '-5']), 5), ['-3', '-5'])\n",
      "\u001b[32m[debug] \u001b[0mProposed: select(separate(gather(@param0, ['-4', '-5']), 5), ['-3', '-5']).\n",
      "\u001b[32m[debug] \u001b[0mRejected: EnumAssertion:gather:0.\n",
      "\u001b[32m[debug] \u001b[0m---> select(separate(gather(@param0, ['-4', '-5']), 5), ['-4', '-5'])\n",
      "\u001b[32m[debug] \u001b[0mProposed: select(separate(gather(@param0, ['-4', '-5']), 5), ['-4', '-5']).\n",
      "\u001b[32m[debug] \u001b[0mRejected: EnumAssertion:gather:0.\n"
     ]
    },
    {
     "name": "stdout",
     "output_type": "stream",
     "text": [
      "\n",
      "# best score is: 304, from: [304]\n",
      "# best score is: 305, from: [305]\n",
      "# best score is: 306, from: [306]\n",
      "# best score is: 307, from: [307]\n",
      "# best score is: 308, from: [308]\n",
      "# best score is: 309, from: [309]\n",
      "# best score is: 310, from: [310]\n",
      "# best score is: 311, from: [311]\n"
     ]
    },
    {
     "name": "stderr",
     "output_type": "stream",
     "text": [
      "\u001b[34m[info] \u001b[0mExhausted.\n"
     ]
    },
    {
     "name": "stdout",
     "output_type": "stream",
     "text": [
      "# best score is: None, from: [None]\n"
     ]
    }
   ],
   "source": [
    "program = synthesizer.synthesize()"
   ]
  },
  {
   "cell_type": "code",
   "execution_count": 9,
   "id": "cb4dc8a4-0d74-43a5-8c20-f9025546daa5",
   "metadata": {},
   "outputs": [
    {
     "data": {
      "text/plain": [
       "ApplyNode(select, [ApplyNode(separate, [ApplyNode(gather, [ParamNode(0), AtomNode(['1'])]), AtomNode(0)]), AtomNode(['0'])])"
      ]
     },
     "execution_count": 9,
     "metadata": {},
     "output_type": "execute_result"
    }
   ],
   "source": [
    "enumerator._iters[0].get_next_best()"
   ]
  },
  {
   "cell_type": "code",
   "execution_count": 10,
   "id": "f8a2a30e-3de5-4293-8259-3e388591095d",
   "metadata": {},
   "outputs": [
    {
     "data": {
      "text/plain": [
       "ApplyNode(select, [ApplyNode(separate, [ApplyNode(gather, [ParamNode(0), AtomNode(['2'])]), AtomNode(0)]), AtomNode(['0'])])"
      ]
     },
     "execution_count": 10,
     "metadata": {},
     "output_type": "execute_result"
    }
   ],
   "source": [
    "enumerator._iters[0].get_next_best()"
   ]
  },
  {
   "cell_type": "code",
   "execution_count": 116,
   "id": "c34bc9fa-8938-48cb-98de-34bc839a2839",
   "metadata": {},
   "outputs": [
    {
     "data": {
      "text/plain": [
       "ApplyNode(select, [ApplyNode(separate, [ApplyNode(gather, [ParamNode(0), AtomNode(['-4', '-5'])]), AtomNode(5)]), AtomNode(['1', '5'])])"
      ]
     },
     "execution_count": 116,
     "metadata": {},
     "output_type": "execute_result"
    }
   ],
   "source": [
    "enumerator._iters[0].get_next_best()"
   ]
  },
  {
   "cell_type": "code",
   "execution_count": 8,
   "id": "f7cd23c6-7cf0-47f7-97ab-7d98d3c712d1",
   "metadata": {},
   "outputs": [],
   "source": [
    "tmp = enumerator.next()[1]"
   ]
  },
  {
   "cell_type": "code",
   "execution_count": 9,
   "id": "98607956-a3d9-42dd-b6f8-277bfbff6f18",
   "metadata": {},
   "outputs": [
    {
     "data": {
      "text/plain": [
       "ApplyNode(select, [ApplyNode(separate, [ApplyNode(gather, [ParamNode(0), AtomNode(['-99', '-3'])]), AtomNode(3)]), AtomNode(['0', '1'])])"
      ]
     },
     "execution_count": 9,
     "metadata": {},
     "output_type": "execute_result"
    }
   ],
   "source": [
    "tmp"
   ]
  },
  {
   "cell_type": "code",
   "execution_count": 12,
   "id": "28676963-f795-4a07-aecb-059731a99072",
   "metadata": {},
   "outputs": [
    {
     "data": {
      "text/plain": [
       "True"
      ]
     },
     "execution_count": 12,
     "metadata": {},
     "output_type": "execute_result"
    }
   ],
   "source": [
    "tmp.is_apply()"
   ]
  },
  {
   "cell_type": "code",
   "execution_count": 11,
   "id": "48c66b4d-7079-489d-ae75-d4b05efeaf24",
   "metadata": {},
   "outputs": [
    {
     "data": {
      "text/plain": [
       "[ApplyNode(separate, [ApplyNode(gather, [ParamNode(0), AtomNode(['-99', '-1'])]), AtomNode(4)]),\n",
       " AtomNode(['-99', '-1'])]"
      ]
     },
     "execution_count": 11,
     "metadata": {},
     "output_type": "execute_result"
    }
   ],
   "source": [
    "tmp.children"
   ]
  },
  {
   "cell_type": "code",
   "execution_count": 11,
   "id": "864d12bf-7090-4e3a-bcca-203aa20da0b8",
   "metadata": {},
   "outputs": [
    {
     "data": {
      "text/plain": [
       "0.5325309219045944"
      ]
     },
     "execution_count": 11,
     "metadata": {},
     "output_type": "execute_result"
    }
   ],
   "source": [
    "tmp.production.score"
   ]
  },
  {
   "cell_type": "code",
   "execution_count": 13,
   "id": "054ffffd-fb9a-49a5-92ad-fc40ee871999",
   "metadata": {},
   "outputs": [
    {
     "data": {
      "text/plain": [
       "<trinity.enumerator.line_skeleton_priority.LineSkeletonPriorityIterator at 0x7fc0795bd610>"
      ]
     },
     "execution_count": 13,
     "metadata": {},
     "output_type": "execute_result"
    }
   ],
   "source": [
    "enumerator._iters[0]"
   ]
  },
  {
   "cell_type": "code",
   "execution_count": 17,
   "id": "f241b45f-63d0-4e04-9fc4-c8e8a1dfb4e5",
   "metadata": {},
   "outputs": [],
   "source": [
    "enumerator._iters[0]._piters[0].peek()"
   ]
  },
  {
   "cell_type": "code",
   "execution_count": 18,
   "id": "3c49eb0f-f991-40cb-9010-89b34f2df85b",
   "metadata": {},
   "outputs": [
    {
     "data": {
      "text/plain": [
       "78"
      ]
     },
     "execution_count": 18,
     "metadata": {},
     "output_type": "execute_result"
    }
   ],
   "source": [
    "enumerator._iters[0]._piters[0]._ptr"
   ]
  },
  {
   "cell_type": "code",
   "execution_count": null,
   "id": "0cb2856e-74bb-4de3-9bf9-7dc6adacceea",
   "metadata": {},
   "outputs": [],
   "source": []
  }
 ],
 "metadata": {
  "kernelspec": {
   "display_name": "Python 3",
   "language": "python",
   "name": "python3"
  },
  "language_info": {
   "codemirror_mode": {
    "name": "ipython",
    "version": 3
   },
   "file_extension": ".py",
   "mimetype": "text/x-python",
   "name": "python",
   "nbconvert_exporter": "python",
   "pygments_lexer": "ipython3",
   "version": "3.8.8"
  }
 },
 "nbformat": 4,
 "nbformat_minor": 5
}
